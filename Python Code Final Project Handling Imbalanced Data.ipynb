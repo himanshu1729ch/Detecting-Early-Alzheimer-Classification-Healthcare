{
  "cells": [
    {
      "cell_type": "markdown",
      "metadata": {
        "id": "view-in-github",
        "colab_type": "text"
      },
      "source": [
        "<a href=\"https://colab.research.google.com/github/himanshu1729ch/Detecting-Early-Alzheimer/blob/main/Python%20Code%20Final%20Project%20Handling%20Imbalanced%20Data.ipynb\" target=\"_parent\"><img src=\"https://colab.research.google.com/assets/colab-badge.svg\" alt=\"Open In Colab\"/></a>"
      ]
    },
    {
      "cell_type": "markdown",
      "id": "7b06223e",
      "metadata": {
        "id": "7b06223e"
      },
      "source": [
        "# Early Detection of Alzheimer Disease "
      ]
    },
    {
      "cell_type": "code",
      "execution_count": 1,
      "id": "74b42381",
      "metadata": {
        "id": "74b42381"
      },
      "outputs": [],
      "source": [
        "#importing libraries\n",
        "import pandas as pd\n",
        "import numpy as np\n",
        "import seaborn as sns\n",
        "import matplotlib.pyplot as plt\n",
        "%matplotlib inline"
      ]
    },
    {
      "cell_type": "code",
      "execution_count": 2,
      "id": "8316db23",
      "metadata": {
        "id": "8316db23"
      },
      "outputs": [],
      "source": [
        "#reading the CSV file in the 'originaldataset'.\n",
        "originaldataset=pd.read_csv(\"Alz mmse Dataset.csv\")"
      ]
    },
    {
      "cell_type": "code",
      "execution_count": 3,
      "id": "e952988b",
      "metadata": {
        "id": "e952988b",
        "outputId": "9e6e630d-99b4-46ce-c4dc-f16ec995619e",
        "colab": {
          "base_uri": "https://localhost:8080/",
          "height": 270
        }
      },
      "outputs": [
        {
          "output_type": "execute_result",
          "data": {
            "text/plain": [
              "    Subject  IntraCranialVol    CortexVol  TotalGrayVol  \\\n",
              "0  OAS30001      1136503.981  379446.1801   517683.1801   \n",
              "1  OAS30002      1727245.999  471180.9506   628934.9506   \n",
              "2  OAS30003      1449811.052  421337.4069   569622.4069   \n",
              "3  OAS30004      1441778.886  436061.6281   585563.6281   \n",
              "4  OAS30005      1606336.367  472022.8105   670640.2598   \n",
              "\n",
              "   CorticalWhiteMatterVol  TOTAL_HIPPOCAMPUS_VOLUME  mmse            Group  \\\n",
              "0             367262.9335                    7678.9    29  NormalCognition   \n",
              "1             511207.5550                    8860.3    29  NormalCognition   \n",
              "2             455826.0555                    8448.5    30  NormalCognition   \n",
              "3             472832.0577                    8636.3    30  NormalCognition   \n",
              "4             509406.4844                    9073.5    27  NormalCognition   \n",
              "\n",
              "   cdr  apoe    Age  Education       Race M/F  \n",
              "0  0.0  23.0  65.50       12.0  Caucasian   F  \n",
              "1  0.0  34.0  68.99       18.0  Caucasian   M  \n",
              "2  0.0  33.0  60.30       16.0  Caucasian   F  \n",
              "3  0.0  23.0  58.11       17.0  Caucasian   F  \n",
              "4  0.0  33.0  48.42       16.0      Asian   F  "
            ],
            "text/html": [
              "\n",
              "  <div id=\"df-438274d5-4666-416e-8067-ae02482bc50b\">\n",
              "    <div class=\"colab-df-container\">\n",
              "      <div>\n",
              "<style scoped>\n",
              "    .dataframe tbody tr th:only-of-type {\n",
              "        vertical-align: middle;\n",
              "    }\n",
              "\n",
              "    .dataframe tbody tr th {\n",
              "        vertical-align: top;\n",
              "    }\n",
              "\n",
              "    .dataframe thead th {\n",
              "        text-align: right;\n",
              "    }\n",
              "</style>\n",
              "<table border=\"1\" class=\"dataframe\">\n",
              "  <thead>\n",
              "    <tr style=\"text-align: right;\">\n",
              "      <th></th>\n",
              "      <th>Subject</th>\n",
              "      <th>IntraCranialVol</th>\n",
              "      <th>CortexVol</th>\n",
              "      <th>TotalGrayVol</th>\n",
              "      <th>CorticalWhiteMatterVol</th>\n",
              "      <th>TOTAL_HIPPOCAMPUS_VOLUME</th>\n",
              "      <th>mmse</th>\n",
              "      <th>Group</th>\n",
              "      <th>cdr</th>\n",
              "      <th>apoe</th>\n",
              "      <th>Age</th>\n",
              "      <th>Education</th>\n",
              "      <th>Race</th>\n",
              "      <th>M/F</th>\n",
              "    </tr>\n",
              "  </thead>\n",
              "  <tbody>\n",
              "    <tr>\n",
              "      <th>0</th>\n",
              "      <td>OAS30001</td>\n",
              "      <td>1136503.981</td>\n",
              "      <td>379446.1801</td>\n",
              "      <td>517683.1801</td>\n",
              "      <td>367262.9335</td>\n",
              "      <td>7678.9</td>\n",
              "      <td>29</td>\n",
              "      <td>NormalCognition</td>\n",
              "      <td>0.0</td>\n",
              "      <td>23.0</td>\n",
              "      <td>65.50</td>\n",
              "      <td>12.0</td>\n",
              "      <td>Caucasian</td>\n",
              "      <td>F</td>\n",
              "    </tr>\n",
              "    <tr>\n",
              "      <th>1</th>\n",
              "      <td>OAS30002</td>\n",
              "      <td>1727245.999</td>\n",
              "      <td>471180.9506</td>\n",
              "      <td>628934.9506</td>\n",
              "      <td>511207.5550</td>\n",
              "      <td>8860.3</td>\n",
              "      <td>29</td>\n",
              "      <td>NormalCognition</td>\n",
              "      <td>0.0</td>\n",
              "      <td>34.0</td>\n",
              "      <td>68.99</td>\n",
              "      <td>18.0</td>\n",
              "      <td>Caucasian</td>\n",
              "      <td>M</td>\n",
              "    </tr>\n",
              "    <tr>\n",
              "      <th>2</th>\n",
              "      <td>OAS30003</td>\n",
              "      <td>1449811.052</td>\n",
              "      <td>421337.4069</td>\n",
              "      <td>569622.4069</td>\n",
              "      <td>455826.0555</td>\n",
              "      <td>8448.5</td>\n",
              "      <td>30</td>\n",
              "      <td>NormalCognition</td>\n",
              "      <td>0.0</td>\n",
              "      <td>33.0</td>\n",
              "      <td>60.30</td>\n",
              "      <td>16.0</td>\n",
              "      <td>Caucasian</td>\n",
              "      <td>F</td>\n",
              "    </tr>\n",
              "    <tr>\n",
              "      <th>3</th>\n",
              "      <td>OAS30004</td>\n",
              "      <td>1441778.886</td>\n",
              "      <td>436061.6281</td>\n",
              "      <td>585563.6281</td>\n",
              "      <td>472832.0577</td>\n",
              "      <td>8636.3</td>\n",
              "      <td>30</td>\n",
              "      <td>NormalCognition</td>\n",
              "      <td>0.0</td>\n",
              "      <td>23.0</td>\n",
              "      <td>58.11</td>\n",
              "      <td>17.0</td>\n",
              "      <td>Caucasian</td>\n",
              "      <td>F</td>\n",
              "    </tr>\n",
              "    <tr>\n",
              "      <th>4</th>\n",
              "      <td>OAS30005</td>\n",
              "      <td>1606336.367</td>\n",
              "      <td>472022.8105</td>\n",
              "      <td>670640.2598</td>\n",
              "      <td>509406.4844</td>\n",
              "      <td>9073.5</td>\n",
              "      <td>27</td>\n",
              "      <td>NormalCognition</td>\n",
              "      <td>0.0</td>\n",
              "      <td>33.0</td>\n",
              "      <td>48.42</td>\n",
              "      <td>16.0</td>\n",
              "      <td>Asian</td>\n",
              "      <td>F</td>\n",
              "    </tr>\n",
              "  </tbody>\n",
              "</table>\n",
              "</div>\n",
              "      <button class=\"colab-df-convert\" onclick=\"convertToInteractive('df-438274d5-4666-416e-8067-ae02482bc50b')\"\n",
              "              title=\"Convert this dataframe to an interactive table.\"\n",
              "              style=\"display:none;\">\n",
              "        \n",
              "  <svg xmlns=\"http://www.w3.org/2000/svg\" height=\"24px\"viewBox=\"0 0 24 24\"\n",
              "       width=\"24px\">\n",
              "    <path d=\"M0 0h24v24H0V0z\" fill=\"none\"/>\n",
              "    <path d=\"M18.56 5.44l.94 2.06.94-2.06 2.06-.94-2.06-.94-.94-2.06-.94 2.06-2.06.94zm-11 1L8.5 8.5l.94-2.06 2.06-.94-2.06-.94L8.5 2.5l-.94 2.06-2.06.94zm10 10l.94 2.06.94-2.06 2.06-.94-2.06-.94-.94-2.06-.94 2.06-2.06.94z\"/><path d=\"M17.41 7.96l-1.37-1.37c-.4-.4-.92-.59-1.43-.59-.52 0-1.04.2-1.43.59L10.3 9.45l-7.72 7.72c-.78.78-.78 2.05 0 2.83L4 21.41c.39.39.9.59 1.41.59.51 0 1.02-.2 1.41-.59l7.78-7.78 2.81-2.81c.8-.78.8-2.07 0-2.86zM5.41 20L4 18.59l7.72-7.72 1.47 1.35L5.41 20z\"/>\n",
              "  </svg>\n",
              "      </button>\n",
              "      \n",
              "  <style>\n",
              "    .colab-df-container {\n",
              "      display:flex;\n",
              "      flex-wrap:wrap;\n",
              "      gap: 12px;\n",
              "    }\n",
              "\n",
              "    .colab-df-convert {\n",
              "      background-color: #E8F0FE;\n",
              "      border: none;\n",
              "      border-radius: 50%;\n",
              "      cursor: pointer;\n",
              "      display: none;\n",
              "      fill: #1967D2;\n",
              "      height: 32px;\n",
              "      padding: 0 0 0 0;\n",
              "      width: 32px;\n",
              "    }\n",
              "\n",
              "    .colab-df-convert:hover {\n",
              "      background-color: #E2EBFA;\n",
              "      box-shadow: 0px 1px 2px rgba(60, 64, 67, 0.3), 0px 1px 3px 1px rgba(60, 64, 67, 0.15);\n",
              "      fill: #174EA6;\n",
              "    }\n",
              "\n",
              "    [theme=dark] .colab-df-convert {\n",
              "      background-color: #3B4455;\n",
              "      fill: #D2E3FC;\n",
              "    }\n",
              "\n",
              "    [theme=dark] .colab-df-convert:hover {\n",
              "      background-color: #434B5C;\n",
              "      box-shadow: 0px 1px 3px 1px rgba(0, 0, 0, 0.15);\n",
              "      filter: drop-shadow(0px 1px 2px rgba(0, 0, 0, 0.3));\n",
              "      fill: #FFFFFF;\n",
              "    }\n",
              "  </style>\n",
              "\n",
              "      <script>\n",
              "        const buttonEl =\n",
              "          document.querySelector('#df-438274d5-4666-416e-8067-ae02482bc50b button.colab-df-convert');\n",
              "        buttonEl.style.display =\n",
              "          google.colab.kernel.accessAllowed ? 'block' : 'none';\n",
              "\n",
              "        async function convertToInteractive(key) {\n",
              "          const element = document.querySelector('#df-438274d5-4666-416e-8067-ae02482bc50b');\n",
              "          const dataTable =\n",
              "            await google.colab.kernel.invokeFunction('convertToInteractive',\n",
              "                                                     [key], {});\n",
              "          if (!dataTable) return;\n",
              "\n",
              "          const docLinkHtml = 'Like what you see? Visit the ' +\n",
              "            '<a target=\"_blank\" href=https://colab.research.google.com/notebooks/data_table.ipynb>data table notebook</a>'\n",
              "            + ' to learn more about interactive tables.';\n",
              "          element.innerHTML = '';\n",
              "          dataTable['output_type'] = 'display_data';\n",
              "          await google.colab.output.renderOutput(dataTable, element);\n",
              "          const docLink = document.createElement('div');\n",
              "          docLink.innerHTML = docLinkHtml;\n",
              "          element.appendChild(docLink);\n",
              "        }\n",
              "      </script>\n",
              "    </div>\n",
              "  </div>\n",
              "  "
            ]
          },
          "metadata": {},
          "execution_count": 3
        }
      ],
      "source": [
        "#checking the loaded dataset\n",
        "originaldataset.head()"
      ]
    },
    {
      "cell_type": "code",
      "source": [
        "#Dropping Subject column as it have id which of no use going further\n",
        "originaldataset.drop('Subject', axis='columns', inplace=True)"
      ],
      "metadata": {
        "id": "0uwi_vLy6gsk"
      },
      "id": "0uwi_vLy6gsk",
      "execution_count": 4,
      "outputs": []
    },
    {
      "cell_type": "code",
      "source": [
        "#taking 10 random observations form dataset to see the changes\n",
        "originaldataset.sample(10)"
      ],
      "metadata": {
        "id": "xp6r6g0s7B8v",
        "outputId": "b229b030-c633-4941-9b36-f5b7b52d7dc2",
        "colab": {
          "base_uri": "https://localhost:8080/",
          "height": 444
        }
      },
      "id": "xp6r6g0s7B8v",
      "execution_count": 5,
      "outputs": [
        {
          "output_type": "execute_result",
          "data": {
            "text/plain": [
              "     IntraCranialVol    CortexVol  TotalGrayVol  CorticalWhiteMatterVol  \\\n",
              "573      1502586.196  399581.9580   555880.9580             429133.9094   \n",
              "258      1655927.616  481873.1819   639112.1819             549189.3826   \n",
              "864      1399230.305  365130.4910   506122.4910             378663.6277   \n",
              "711      1668307.309  436917.0241   594471.0241             415496.6934   \n",
              "473      1360631.411  443496.4416   590260.4416             455211.0167   \n",
              "644      1567061.092  438905.1512   587041.1512             431664.7079   \n",
              "484      1671414.840  458298.2875   617793.2875             454500.5586   \n",
              "699      1318519.349  423063.5361   570944.5361             416675.5634   \n",
              "177      1440124.233  424909.0273   560088.0273             398196.7206   \n",
              "443      1743858.582  472922.6969   631085.6969             538005.5279   \n",
              "\n",
              "     TOTAL_HIPPOCAMPUS_VOLUME  mmse             Group  cdr  apoe    Age  \\\n",
              "573                    7528.6    29   NormalCognition  0.0  34.0  74.66   \n",
              "258                    8914.5    30   NormalCognition  0.0  33.0  47.43   \n",
              "864                    6003.4    15  ModerateDementia  2.0  44.0  68.23   \n",
              "711                    5870.5    29   NormalCognition  0.5  33.0  82.34   \n",
              "473                    9154.8    30   NormalCognition  0.0  34.0  65.80   \n",
              "644                    7570.0    28   NormalCognition  0.0  33.0  75.23   \n",
              "484                    8210.2    28   NormalCognition  0.0  34.0  66.35   \n",
              "699                    7538.3    30   NormalCognition  0.0  34.0  62.95   \n",
              "177                    7434.8    30   NormalCognition  0.0  23.0  73.16   \n",
              "443                    6935.7    30   NormalCognition  0.0  23.0  70.81   \n",
              "\n",
              "     Education              Race M/F  \n",
              "573       16.0         Caucasian   M  \n",
              "258       16.0         Caucasian   M  \n",
              "864       14.0  African American   M  \n",
              "711       16.0         Caucasian   M  \n",
              "473       16.0         Caucasian   F  \n",
              "644       13.0         Caucasian   F  \n",
              "484       18.0         Caucasian   M  \n",
              "699       18.0         Caucasian   M  \n",
              "177       20.0         Caucasian   M  \n",
              "443       16.0         Caucasian   M  "
            ],
            "text/html": [
              "\n",
              "  <div id=\"df-cc9d3f2f-a770-45b7-8e68-e9e49245d996\">\n",
              "    <div class=\"colab-df-container\">\n",
              "      <div>\n",
              "<style scoped>\n",
              "    .dataframe tbody tr th:only-of-type {\n",
              "        vertical-align: middle;\n",
              "    }\n",
              "\n",
              "    .dataframe tbody tr th {\n",
              "        vertical-align: top;\n",
              "    }\n",
              "\n",
              "    .dataframe thead th {\n",
              "        text-align: right;\n",
              "    }\n",
              "</style>\n",
              "<table border=\"1\" class=\"dataframe\">\n",
              "  <thead>\n",
              "    <tr style=\"text-align: right;\">\n",
              "      <th></th>\n",
              "      <th>IntraCranialVol</th>\n",
              "      <th>CortexVol</th>\n",
              "      <th>TotalGrayVol</th>\n",
              "      <th>CorticalWhiteMatterVol</th>\n",
              "      <th>TOTAL_HIPPOCAMPUS_VOLUME</th>\n",
              "      <th>mmse</th>\n",
              "      <th>Group</th>\n",
              "      <th>cdr</th>\n",
              "      <th>apoe</th>\n",
              "      <th>Age</th>\n",
              "      <th>Education</th>\n",
              "      <th>Race</th>\n",
              "      <th>M/F</th>\n",
              "    </tr>\n",
              "  </thead>\n",
              "  <tbody>\n",
              "    <tr>\n",
              "      <th>573</th>\n",
              "      <td>1502586.196</td>\n",
              "      <td>399581.9580</td>\n",
              "      <td>555880.9580</td>\n",
              "      <td>429133.9094</td>\n",
              "      <td>7528.6</td>\n",
              "      <td>29</td>\n",
              "      <td>NormalCognition</td>\n",
              "      <td>0.0</td>\n",
              "      <td>34.0</td>\n",
              "      <td>74.66</td>\n",
              "      <td>16.0</td>\n",
              "      <td>Caucasian</td>\n",
              "      <td>M</td>\n",
              "    </tr>\n",
              "    <tr>\n",
              "      <th>258</th>\n",
              "      <td>1655927.616</td>\n",
              "      <td>481873.1819</td>\n",
              "      <td>639112.1819</td>\n",
              "      <td>549189.3826</td>\n",
              "      <td>8914.5</td>\n",
              "      <td>30</td>\n",
              "      <td>NormalCognition</td>\n",
              "      <td>0.0</td>\n",
              "      <td>33.0</td>\n",
              "      <td>47.43</td>\n",
              "      <td>16.0</td>\n",
              "      <td>Caucasian</td>\n",
              "      <td>M</td>\n",
              "    </tr>\n",
              "    <tr>\n",
              "      <th>864</th>\n",
              "      <td>1399230.305</td>\n",
              "      <td>365130.4910</td>\n",
              "      <td>506122.4910</td>\n",
              "      <td>378663.6277</td>\n",
              "      <td>6003.4</td>\n",
              "      <td>15</td>\n",
              "      <td>ModerateDementia</td>\n",
              "      <td>2.0</td>\n",
              "      <td>44.0</td>\n",
              "      <td>68.23</td>\n",
              "      <td>14.0</td>\n",
              "      <td>African American</td>\n",
              "      <td>M</td>\n",
              "    </tr>\n",
              "    <tr>\n",
              "      <th>711</th>\n",
              "      <td>1668307.309</td>\n",
              "      <td>436917.0241</td>\n",
              "      <td>594471.0241</td>\n",
              "      <td>415496.6934</td>\n",
              "      <td>5870.5</td>\n",
              "      <td>29</td>\n",
              "      <td>NormalCognition</td>\n",
              "      <td>0.5</td>\n",
              "      <td>33.0</td>\n",
              "      <td>82.34</td>\n",
              "      <td>16.0</td>\n",
              "      <td>Caucasian</td>\n",
              "      <td>M</td>\n",
              "    </tr>\n",
              "    <tr>\n",
              "      <th>473</th>\n",
              "      <td>1360631.411</td>\n",
              "      <td>443496.4416</td>\n",
              "      <td>590260.4416</td>\n",
              "      <td>455211.0167</td>\n",
              "      <td>9154.8</td>\n",
              "      <td>30</td>\n",
              "      <td>NormalCognition</td>\n",
              "      <td>0.0</td>\n",
              "      <td>34.0</td>\n",
              "      <td>65.80</td>\n",
              "      <td>16.0</td>\n",
              "      <td>Caucasian</td>\n",
              "      <td>F</td>\n",
              "    </tr>\n",
              "    <tr>\n",
              "      <th>644</th>\n",
              "      <td>1567061.092</td>\n",
              "      <td>438905.1512</td>\n",
              "      <td>587041.1512</td>\n",
              "      <td>431664.7079</td>\n",
              "      <td>7570.0</td>\n",
              "      <td>28</td>\n",
              "      <td>NormalCognition</td>\n",
              "      <td>0.0</td>\n",
              "      <td>33.0</td>\n",
              "      <td>75.23</td>\n",
              "      <td>13.0</td>\n",
              "      <td>Caucasian</td>\n",
              "      <td>F</td>\n",
              "    </tr>\n",
              "    <tr>\n",
              "      <th>484</th>\n",
              "      <td>1671414.840</td>\n",
              "      <td>458298.2875</td>\n",
              "      <td>617793.2875</td>\n",
              "      <td>454500.5586</td>\n",
              "      <td>8210.2</td>\n",
              "      <td>28</td>\n",
              "      <td>NormalCognition</td>\n",
              "      <td>0.0</td>\n",
              "      <td>34.0</td>\n",
              "      <td>66.35</td>\n",
              "      <td>18.0</td>\n",
              "      <td>Caucasian</td>\n",
              "      <td>M</td>\n",
              "    </tr>\n",
              "    <tr>\n",
              "      <th>699</th>\n",
              "      <td>1318519.349</td>\n",
              "      <td>423063.5361</td>\n",
              "      <td>570944.5361</td>\n",
              "      <td>416675.5634</td>\n",
              "      <td>7538.3</td>\n",
              "      <td>30</td>\n",
              "      <td>NormalCognition</td>\n",
              "      <td>0.0</td>\n",
              "      <td>34.0</td>\n",
              "      <td>62.95</td>\n",
              "      <td>18.0</td>\n",
              "      <td>Caucasian</td>\n",
              "      <td>M</td>\n",
              "    </tr>\n",
              "    <tr>\n",
              "      <th>177</th>\n",
              "      <td>1440124.233</td>\n",
              "      <td>424909.0273</td>\n",
              "      <td>560088.0273</td>\n",
              "      <td>398196.7206</td>\n",
              "      <td>7434.8</td>\n",
              "      <td>30</td>\n",
              "      <td>NormalCognition</td>\n",
              "      <td>0.0</td>\n",
              "      <td>23.0</td>\n",
              "      <td>73.16</td>\n",
              "      <td>20.0</td>\n",
              "      <td>Caucasian</td>\n",
              "      <td>M</td>\n",
              "    </tr>\n",
              "    <tr>\n",
              "      <th>443</th>\n",
              "      <td>1743858.582</td>\n",
              "      <td>472922.6969</td>\n",
              "      <td>631085.6969</td>\n",
              "      <td>538005.5279</td>\n",
              "      <td>6935.7</td>\n",
              "      <td>30</td>\n",
              "      <td>NormalCognition</td>\n",
              "      <td>0.0</td>\n",
              "      <td>23.0</td>\n",
              "      <td>70.81</td>\n",
              "      <td>16.0</td>\n",
              "      <td>Caucasian</td>\n",
              "      <td>M</td>\n",
              "    </tr>\n",
              "  </tbody>\n",
              "</table>\n",
              "</div>\n",
              "      <button class=\"colab-df-convert\" onclick=\"convertToInteractive('df-cc9d3f2f-a770-45b7-8e68-e9e49245d996')\"\n",
              "              title=\"Convert this dataframe to an interactive table.\"\n",
              "              style=\"display:none;\">\n",
              "        \n",
              "  <svg xmlns=\"http://www.w3.org/2000/svg\" height=\"24px\"viewBox=\"0 0 24 24\"\n",
              "       width=\"24px\">\n",
              "    <path d=\"M0 0h24v24H0V0z\" fill=\"none\"/>\n",
              "    <path d=\"M18.56 5.44l.94 2.06.94-2.06 2.06-.94-2.06-.94-.94-2.06-.94 2.06-2.06.94zm-11 1L8.5 8.5l.94-2.06 2.06-.94-2.06-.94L8.5 2.5l-.94 2.06-2.06.94zm10 10l.94 2.06.94-2.06 2.06-.94-2.06-.94-.94-2.06-.94 2.06-2.06.94z\"/><path d=\"M17.41 7.96l-1.37-1.37c-.4-.4-.92-.59-1.43-.59-.52 0-1.04.2-1.43.59L10.3 9.45l-7.72 7.72c-.78.78-.78 2.05 0 2.83L4 21.41c.39.39.9.59 1.41.59.51 0 1.02-.2 1.41-.59l7.78-7.78 2.81-2.81c.8-.78.8-2.07 0-2.86zM5.41 20L4 18.59l7.72-7.72 1.47 1.35L5.41 20z\"/>\n",
              "  </svg>\n",
              "      </button>\n",
              "      \n",
              "  <style>\n",
              "    .colab-df-container {\n",
              "      display:flex;\n",
              "      flex-wrap:wrap;\n",
              "      gap: 12px;\n",
              "    }\n",
              "\n",
              "    .colab-df-convert {\n",
              "      background-color: #E8F0FE;\n",
              "      border: none;\n",
              "      border-radius: 50%;\n",
              "      cursor: pointer;\n",
              "      display: none;\n",
              "      fill: #1967D2;\n",
              "      height: 32px;\n",
              "      padding: 0 0 0 0;\n",
              "      width: 32px;\n",
              "    }\n",
              "\n",
              "    .colab-df-convert:hover {\n",
              "      background-color: #E2EBFA;\n",
              "      box-shadow: 0px 1px 2px rgba(60, 64, 67, 0.3), 0px 1px 3px 1px rgba(60, 64, 67, 0.15);\n",
              "      fill: #174EA6;\n",
              "    }\n",
              "\n",
              "    [theme=dark] .colab-df-convert {\n",
              "      background-color: #3B4455;\n",
              "      fill: #D2E3FC;\n",
              "    }\n",
              "\n",
              "    [theme=dark] .colab-df-convert:hover {\n",
              "      background-color: #434B5C;\n",
              "      box-shadow: 0px 1px 3px 1px rgba(0, 0, 0, 0.15);\n",
              "      filter: drop-shadow(0px 1px 2px rgba(0, 0, 0, 0.3));\n",
              "      fill: #FFFFFF;\n",
              "    }\n",
              "  </style>\n",
              "\n",
              "      <script>\n",
              "        const buttonEl =\n",
              "          document.querySelector('#df-cc9d3f2f-a770-45b7-8e68-e9e49245d996 button.colab-df-convert');\n",
              "        buttonEl.style.display =\n",
              "          google.colab.kernel.accessAllowed ? 'block' : 'none';\n",
              "\n",
              "        async function convertToInteractive(key) {\n",
              "          const element = document.querySelector('#df-cc9d3f2f-a770-45b7-8e68-e9e49245d996');\n",
              "          const dataTable =\n",
              "            await google.colab.kernel.invokeFunction('convertToInteractive',\n",
              "                                                     [key], {});\n",
              "          if (!dataTable) return;\n",
              "\n",
              "          const docLinkHtml = 'Like what you see? Visit the ' +\n",
              "            '<a target=\"_blank\" href=https://colab.research.google.com/notebooks/data_table.ipynb>data table notebook</a>'\n",
              "            + ' to learn more about interactive tables.';\n",
              "          element.innerHTML = '';\n",
              "          dataTable['output_type'] = 'display_data';\n",
              "          await google.colab.output.renderOutput(dataTable, element);\n",
              "          const docLink = document.createElement('div');\n",
              "          docLink.innerHTML = docLinkHtml;\n",
              "          element.appendChild(docLink);\n",
              "        }\n",
              "      </script>\n",
              "    </div>\n",
              "  </div>\n",
              "  "
            ]
          },
          "metadata": {},
          "execution_count": 5
        }
      ]
    },
    {
      "cell_type": "code",
      "source": [
        "#changing all column names to lowercase\n",
        "originaldataset.columns=originaldataset.columns.str.lower()"
      ],
      "metadata": {
        "id": "UtM0JsMB8xuP"
      },
      "id": "UtM0JsMB8xuP",
      "execution_count": 6,
      "outputs": []
    },
    {
      "cell_type": "code",
      "source": [
        "#datatypes of columns\n",
        "originaldataset.dtypes"
      ],
      "metadata": {
        "id": "7OyUSRbW7GuS",
        "outputId": "e9ba0e06-f7a3-46bf-9e48-8c842a2eb033",
        "colab": {
          "base_uri": "https://localhost:8080/"
        }
      },
      "id": "7OyUSRbW7GuS",
      "execution_count": 7,
      "outputs": [
        {
          "output_type": "execute_result",
          "data": {
            "text/plain": [
              "intracranialvol             float64\n",
              "cortexvol                   float64\n",
              "totalgrayvol                float64\n",
              "corticalwhitemattervol      float64\n",
              "total_hippocampus_volume    float64\n",
              "mmse                          int64\n",
              "group                        object\n",
              "cdr                         float64\n",
              "apoe                        float64\n",
              "age                         float64\n",
              "education                   float64\n",
              "race                         object\n",
              "m/f                          object\n",
              "dtype: object"
            ]
          },
          "metadata": {},
          "execution_count": 7
        }
      ]
    },
    {
      "cell_type": "code",
      "execution_count": 8,
      "id": "9f4dc05c",
      "metadata": {
        "id": "9f4dc05c",
        "outputId": "d75fd970-b758-48fa-b5fe-8dd5d7e81c25",
        "colab": {
          "base_uri": "https://localhost:8080/"
        }
      },
      "outputs": [
        {
          "output_type": "stream",
          "name": "stdout",
          "text": [
            "<class 'pandas.core.frame.DataFrame'>\n",
            "RangeIndex: 1026 entries, 0 to 1025\n",
            "Data columns (total 13 columns):\n",
            " #   Column                    Non-Null Count  Dtype  \n",
            "---  ------                    --------------  -----  \n",
            " 0   intracranialvol           1026 non-null   float64\n",
            " 1   cortexvol                 1026 non-null   float64\n",
            " 2   totalgrayvol              1026 non-null   float64\n",
            " 3   corticalwhitemattervol    1026 non-null   float64\n",
            " 4   total_hippocampus_volume  1026 non-null   float64\n",
            " 5   mmse                      1026 non-null   int64  \n",
            " 6   group                     1026 non-null   object \n",
            " 7   cdr                       1026 non-null   float64\n",
            " 8   apoe                      1004 non-null   float64\n",
            " 9   age                       1026 non-null   float64\n",
            " 10  education                 1024 non-null   float64\n",
            " 11  race                      1026 non-null   object \n",
            " 12  m/f                       1026 non-null   object \n",
            "dtypes: float64(9), int64(1), object(3)\n",
            "memory usage: 104.3+ KB\n"
          ]
        }
      ],
      "source": [
        "#checking the information about the dataset\n",
        "originaldataset.info()"
      ]
    },
    {
      "cell_type": "code",
      "execution_count": 9,
      "id": "580d89f5",
      "metadata": {
        "id": "580d89f5"
      },
      "outputs": [],
      "source": [
        "#above we have 13 columns other than index"
      ]
    },
    {
      "cell_type": "code",
      "execution_count": 10,
      "id": "5fcb8f1c",
      "metadata": {
        "id": "5fcb8f1c",
        "outputId": "7f6ab147-b781-4a6a-a805-b19147c0c7ff",
        "colab": {
          "base_uri": "https://localhost:8080/"
        }
      },
      "outputs": [
        {
          "output_type": "execute_result",
          "data": {
            "text/plain": [
              "intracranialvol              0\n",
              "cortexvol                    0\n",
              "totalgrayvol                 0\n",
              "corticalwhitemattervol       0\n",
              "total_hippocampus_volume     0\n",
              "mmse                         0\n",
              "group                        0\n",
              "cdr                          0\n",
              "apoe                        22\n",
              "age                          0\n",
              "education                    2\n",
              "race                         0\n",
              "m/f                          0\n",
              "dtype: int64"
            ]
          },
          "metadata": {},
          "execution_count": 10
        }
      ],
      "source": [
        "#checking the nulls\n",
        "originaldataset.isna().sum() "
      ]
    },
    {
      "cell_type": "markdown",
      "id": "8dcceef2",
      "metadata": {
        "id": "8dcceef2"
      },
      "source": [
        "## Imputation"
      ]
    },
    {
      "cell_type": "code",
      "execution_count": 11,
      "id": "e0659a2c",
      "metadata": {
        "id": "e0659a2c"
      },
      "outputs": [],
      "source": [
        "#filling out the missing values by most frequent values in the columns\n",
        "from sklearn.impute import SimpleImputer\n",
        "\n",
        "imputer = SimpleImputer ( missing_values = np.nan,strategy='most_frequent')"
      ]
    },
    {
      "cell_type": "code",
      "execution_count": 12,
      "id": "66ede85f",
      "metadata": {
        "id": "66ede85f"
      },
      "outputs": [],
      "source": [
        "imputer.fit(originaldataset[['apoe']])\n",
        "originaldataset[['apoe']] = imputer.fit_transform(originaldataset[['apoe']])"
      ]
    },
    {
      "cell_type": "code",
      "execution_count": 13,
      "id": "8c814f03",
      "metadata": {
        "id": "8c814f03"
      },
      "outputs": [],
      "source": [
        "imputer.fit(originaldataset[['education']])\n",
        "originaldataset[['education']] = imputer.fit_transform(originaldataset[['education']])"
      ]
    },
    {
      "cell_type": "code",
      "execution_count": 14,
      "id": "f7b47697",
      "metadata": {
        "id": "f7b47697",
        "outputId": "26c33ad4-d773-4842-a839-5a413ed876d4",
        "colab": {
          "base_uri": "https://localhost:8080/"
        }
      },
      "outputs": [
        {
          "output_type": "execute_result",
          "data": {
            "text/plain": [
              "intracranialvol             0\n",
              "cortexvol                   0\n",
              "totalgrayvol                0\n",
              "corticalwhitemattervol      0\n",
              "total_hippocampus_volume    0\n",
              "mmse                        0\n",
              "group                       0\n",
              "cdr                         0\n",
              "apoe                        0\n",
              "age                         0\n",
              "education                   0\n",
              "race                        0\n",
              "m/f                         0\n",
              "dtype: int64"
            ]
          },
          "metadata": {},
          "execution_count": 14
        }
      ],
      "source": [
        "# Check missing values by each column\n",
        "pd.isnull(originaldataset).sum() "
      ]
    },
    {
      "cell_type": "markdown",
      "id": "81fa52a8",
      "metadata": {
        "id": "81fa52a8"
      },
      "source": [
        "### About Target Column \"Group\""
      ]
    },
    {
      "cell_type": "code",
      "execution_count": 15,
      "id": "195bb0ad",
      "metadata": {
        "id": "195bb0ad",
        "outputId": "2aa83cd7-f501-496c-ca65-9fc8dad5540d",
        "colab": {
          "base_uri": "https://localhost:8080/"
        }
      },
      "outputs": [
        {
          "output_type": "execute_result",
          "data": {
            "text/plain": [
              "array(['NormalCognition', 'ModerateDementia', 'MildDementia',\n",
              "       'SevereDementia'], dtype=object)"
            ]
          },
          "metadata": {},
          "execution_count": 15
        }
      ],
      "source": [
        "#checking out our target column and its unique value\n",
        "#The MMSE has a maximum score of 30 points. The scores are generally grouped as follows:\n",
        "\"\"\"\n",
        "25-30 points\tNormal Cognition\n",
        "21-24 points\tMild dementia\n",
        "10-20 points\tModerate dementia\n",
        "9 points or lower\tSevere dementia\n",
        "\"\"\"\n",
        "pd.unique(originaldataset['group'])\n"
      ]
    },
    {
      "cell_type": "code",
      "source": [
        "originaldataset['group'].value_counts()"
      ],
      "metadata": {
        "id": "A09UvAtKE4y7",
        "outputId": "03fe4af6-3599-4bc2-d610-83ceb6c76292",
        "colab": {
          "base_uri": "https://localhost:8080/"
        }
      },
      "id": "A09UvAtKE4y7",
      "execution_count": 16,
      "outputs": [
        {
          "output_type": "execute_result",
          "data": {
            "text/plain": [
              "NormalCognition     836\n",
              "ModerateDementia     92\n",
              "MildDementia         84\n",
              "SevereDementia       14\n",
              "Name: group, dtype: int64"
            ]
          },
          "metadata": {},
          "execution_count": 16
        }
      ]
    },
    {
      "cell_type": "code",
      "source": [
        "sns.set_theme(style=\"whitegrid\")\n",
        "#visualising frequncies of each group\n",
        "sns.countplot(y=originaldataset['group'])"
      ],
      "metadata": {
        "id": "__SInjqSCh2O",
        "outputId": "4bc44c72-b5bf-4c49-d599-619a15cd545a",
        "colab": {
          "base_uri": "https://localhost:8080/",
          "height": 303
        }
      },
      "id": "__SInjqSCh2O",
      "execution_count": 17,
      "outputs": [
        {
          "output_type": "execute_result",
          "data": {
            "text/plain": [
              "<matplotlib.axes._subplots.AxesSubplot at 0x7f567d7b5550>"
            ]
          },
          "metadata": {},
          "execution_count": 17
        },
        {
          "output_type": "display_data",
          "data": {
            "text/plain": [
              "<Figure size 432x288 with 1 Axes>"
            ],
            "image/png": "[encoded data removed]"
          },
          "metadata": {}
        }
      ]
    },
    {
      "cell_type": "markdown",
      "source": [
        "### As the data is highly imbalanced in 4 classes with lots of subject falling in Normal Cognition class as expected.\n",
        "I am now converting this multiclass problem to a binary problem as the subjects who are in category of 'NormalCognition' be NonDemented means not seem to have any Alzheimer on diagnosis and the other group is the subject having 'MildDementia', 'ModerateDementia', 'SevereDementia' as Demented Class.\n"
      ],
      "metadata": {
        "id": "Ir-dxs-JFDSF"
      },
      "id": "Ir-dxs-JFDSF"
    },
    {
      "cell_type": "code",
      "source": [
        "originaldataset['group'].replace({'NormalCognition': 'NonDemented', 'MildDementia': 'Demented','ModerateDementia': 'Demented','SevereDementia': 'Demented'}, inplace=True)"
      ],
      "metadata": {
        "id": "S9FByfgUFCti"
      },
      "id": "S9FByfgUFCti",
      "execution_count": 18,
      "outputs": []
    },
    {
      "cell_type": "markdown",
      "source": [
        "## Now we have two classes - Demented and NonDemented"
      ],
      "metadata": {
        "id": "DXpMxaBiNlNG"
      },
      "id": "DXpMxaBiNlNG"
    },
    {
      "cell_type": "code",
      "source": [
        "originaldataset['group'].value_counts()"
      ],
      "metadata": {
        "id": "VN3jBbXXNFzd",
        "outputId": "3d9d4e04-3750-4de7-84df-40d5a55613a1",
        "colab": {
          "base_uri": "https://localhost:8080/"
        }
      },
      "id": "VN3jBbXXNFzd",
      "execution_count": 19,
      "outputs": [
        {
          "output_type": "execute_result",
          "data": {
            "text/plain": [
              "NonDemented    836\n",
              "Demented       190\n",
              "Name: group, dtype: int64"
            ]
          },
          "metadata": {},
          "execution_count": 19
        }
      ]
    },
    {
      "cell_type": "code",
      "source": [
        "sns.countplot(y=originaldataset['group'])"
      ],
      "metadata": {
        "id": "anQbA0Z2Nstm",
        "outputId": "440f2ff6-73ee-4d72-8ff5-6ee73d58b5f0",
        "colab": {
          "base_uri": "https://localhost:8080/",
          "height": 303
        }
      },
      "id": "anQbA0Z2Nstm",
      "execution_count": 20,
      "outputs": [
        {
          "output_type": "execute_result",
          "data": {
            "text/plain": [
              "<matplotlib.axes._subplots.AxesSubplot at 0x7f567c7e3dd0>"
            ]
          },
          "metadata": {},
          "execution_count": 20
        },
        {
          "output_type": "display_data",
          "data": {
            "text/plain": [
              "<Figure size 432x288 with 1 Axes>"
            ],
            "image/png": "[encoded data removed]"
          },
          "metadata": {}
        }
      ]
    },
    {
      "cell_type": "markdown",
      "id": "045e2cb7",
      "metadata": {
        "id": "045e2cb7"
      },
      "source": [
        "# EXPLORATORY DATA ANALYSIS (EDA)"
      ]
    },
    {
      "cell_type": "code",
      "execution_count": 21,
      "id": "7e9fa95f",
      "metadata": {
        "id": "7e9fa95f",
        "outputId": "818093f1-e692-4266-8ac5-23667132235d",
        "colab": {
          "base_uri": "https://localhost:8080/",
          "height": 606
        }
      },
      "outputs": [
        {
          "output_type": "display_data",
          "data": {
            "text/plain": [
              "<Figure size 864x648 with 2 Axes>"
            ],
            "image/png": "[encoded data removed]"
          },
          "metadata": {}
        }
      ],
      "source": [
        "#checking correlations with heatmap.\n",
        "cor = originaldataset.corr()\n",
        "plt.figure(figsize=(12,9))\n",
        "sns.heatmap(cor, xticklabels=cor.columns.values,yticklabels=cor.columns.values, annot=True)\n",
        "plt.show()"
      ]
    },
    {
      "cell_type": "code",
      "execution_count": 22,
      "id": "3d74d14f",
      "metadata": {
        "id": "3d74d14f"
      },
      "outputs": [],
      "source": [
        "# Above we can check the correlation of every column against MMSE, The TOTAL HIPPOCAMPUS VOLUME seems most positive coorelated\n",
        "#AND CDR seems highly negatively correlated."
      ]
    },
    {
      "cell_type": "code",
      "execution_count": 23,
      "id": "86eeed2b",
      "metadata": {
        "id": "86eeed2b"
      },
      "outputs": [],
      "source": [
        "#before moving on further changing the name of dataset from 'originaldataset' to 'df'.\n",
        "df=originaldataset"
      ]
    },
    {
      "cell_type": "code",
      "execution_count": 24,
      "id": "ae1afe13",
      "metadata": {
        "id": "ae1afe13"
      },
      "outputs": [],
      "source": [
        "# bar drawing function\n",
        "def bar_chart(feature):\n",
        "    NonDemented = df[df['group']==\"NonDemented\"][feature].value_counts()\n",
        "    Demented = df[df['group']==\"Demented\"][feature].value_counts()\n",
        "    df_bar = pd.DataFrame([NonDemented,Demented])\n",
        "    df_bar.index = ['NonDemented','Demented']\n",
        "    df_bar.plot(kind='bar',stacked=True, figsize=(8,5))"
      ]
    },
    {
      "cell_type": "code",
      "execution_count": 25,
      "id": "1361cbcc",
      "metadata": {
        "id": "1361cbcc",
        "outputId": "8bc00c3b-e232-41df-d1a4-835d7f190539",
        "colab": {
          "base_uri": "https://localhost:8080/",
          "height": 443
        }
      },
      "outputs": [
        {
          "output_type": "execute_result",
          "data": {
            "text/plain": [
              "Text(0.5, 1.0, 'Gender and MMSE')"
            ]
          },
          "metadata": {},
          "execution_count": 25
        },
        {
          "output_type": "display_data",
          "data": {
            "text/plain": [
              "<Figure size 576x360 with 1 Axes>"
            ],
            "image/png": "[encoded data removed]"
          },
          "metadata": {}
        }
      ],
      "source": [
        "# Gender(M/F)  and  Group ( Female=0, Male=1)\n",
        "bar_chart('m/f')\n",
        "plt.xlabel('group')\n",
        "plt.ylabel('Number of patients')\n",
        "plt.legend()\n",
        "plt.title('Gender and MMSE')\n",
        "\n",
        "#below generally we can see that male proportion are having less MMSE values."
      ]
    },
    {
      "cell_type": "code",
      "execution_count": 26,
      "id": "e69e206e",
      "metadata": {
        "id": "e69e206e",
        "outputId": "f59de763-c339-447d-cc8d-e857085c250e",
        "colab": {
          "base_uri": "https://localhost:8080/"
        }
      },
      "outputs": [
        {
          "output_type": "execute_result",
          "data": {
            "text/plain": [
              "NonDemented    836\n",
              "Demented       190\n",
              "Name: group, dtype: int64"
            ]
          },
          "metadata": {},
          "execution_count": 26
        }
      ],
      "source": [
        "#Counts of values of each kind in Group\n",
        "originaldataset['group'].value_counts()"
      ]
    },
    {
      "cell_type": "code",
      "execution_count": 27,
      "id": "fc2ad848",
      "metadata": {
        "id": "fc2ad848",
        "outputId": "93a14baf-237b-47b3-d605-aa78bf749447",
        "colab": {
          "base_uri": "https://localhost:8080/",
          "height": 229
        }
      },
      "outputs": [
        {
          "output_type": "execute_result",
          "data": {
            "text/plain": [
              "(0.3, 30.0)"
            ]
          },
          "metadata": {},
          "execution_count": 27
        },
        {
          "output_type": "display_data",
          "data": {
            "text/plain": [
              "<Figure size 767.85x216 with 1 Axes>"
            ],
            "image/png": "[encoded data removed]"
          },
          "metadata": {}
        }
      ],
      "source": [
        "#MMSE : Mini Mental State Examination\n",
        "facet= sns.FacetGrid(df,hue=\"group\", aspect=3)\n",
        "facet.map(sns.kdeplot,'mmse',shade= True)\n",
        "facet.set(xlim=(0, df['mmse'].max()))\n",
        "facet.add_legend()\n",
        "plt.xlim(0.30)\n",
        "\n",
        "#we can see how the range of each group is distributed. "
      ]
    },
    {
      "cell_type": "code",
      "execution_count": 29,
      "id": "dd2ad60c",
      "metadata": {
        "id": "dd2ad60c",
        "outputId": "a9be6343-6111-4844-d7fb-762bbed02590",
        "colab": {
          "base_uri": "https://localhost:8080/",
          "height": 229
        }
      },
      "outputs": [
        {
          "output_type": "execute_result",
          "data": {
            "text/plain": [
              "(50.0, 100.0)"
            ]
          },
          "metadata": {},
          "execution_count": 29
        },
        {
          "output_type": "display_data",
          "data": {
            "text/plain": [
              "<Figure size 767.85x216 with 1 Axes>"
            ],
            "image/png": "[encoded data removed]"
          },
          "metadata": {}
        }
      ],
      "source": [
        "#AGE\n",
        "facet= sns.FacetGrid(df,hue=\"group\", aspect=3)\n",
        "facet.map(sns.kdeplot,'age',shade= True)\n",
        "facet.set(xlim=(0, df['age'].max()))\n",
        "facet.add_legend()\n",
        "plt.xlim(50,100)\n",
        "\n",
        "#below we can observe that age 70-85, more people are having dementia than any other age group."
      ]
    },
    {
      "cell_type": "code",
      "execution_count": 30,
      "id": "8b845f33",
      "metadata": {
        "id": "8b845f33",
        "outputId": "4cae0d20-da71-4d5f-faf6-7cb49e6470e3",
        "colab": {
          "base_uri": "https://localhost:8080/",
          "height": 233
        }
      },
      "outputs": [
        {
          "output_type": "execute_result",
          "data": {
            "text/plain": [
              "(0.0, 0.2)"
            ]
          },
          "metadata": {},
          "execution_count": 30
        },
        {
          "output_type": "display_data",
          "data": {
            "text/plain": [
              "<Figure size 767.85x216 with 1 Axes>"
            ],
            "image/png": "[encoded data removed]"
          },
          "metadata": {}
        }
      ],
      "source": [
        "#'EDUC' = Years of Education\n",
        "\n",
        "facet= sns.FacetGrid(df,hue=\"group\", aspect=3)\n",
        "facet.map(sns.kdeplot,'education',shade= True)\n",
        "facet.set(xlim=(df['education'].min(), df['education'].max()))\n",
        "facet.add_legend()\n",
        "plt.ylim(0, 0.2)\n",
        "\n",
        "#below, we can observe the mix trends but by correlation as well as some trend we see that the dementia decreasae with education level."
      ]
    },
    {
      "cell_type": "code",
      "execution_count": 31,
      "id": "56d5073b",
      "metadata": {
        "id": "56d5073b",
        "outputId": "f14f5244-bf0d-4a40-f4f6-231f42588724",
        "colab": {
          "base_uri": "https://localhost:8080/",
          "height": 229
        }
      },
      "outputs": [
        {
          "output_type": "execute_result",
          "data": {
            "text/plain": [
              "<seaborn.axisgrid.FacetGrid at 0x7f5677efa750>"
            ]
          },
          "metadata": {},
          "execution_count": 31
        },
        {
          "output_type": "display_data",
          "data": {
            "text/plain": [
              "<Figure size 767.85x216 with 1 Axes>"
            ],
            "image/png": "[encoded data removed]"
          },
          "metadata": {}
        }
      ],
      "source": [
        "#'IntraCranialVol' \n",
        "facet= sns.FacetGrid(df,hue=\"group\", aspect=3)\n",
        "facet.map(sns.kdeplot,'intracranialvol',shade= True)\n",
        "facet.set(xlim=(df['intracranialvol'].min(), df['intracranialvol'].max()))\n",
        "facet.add_legend()\n",
        "\n",
        "#by seeing the heat map correlation and the below graph as dementia increases the IntraCranial Volume increases.\n",
        "#demetia increase, MMSE decrease therefore IntraCranialVol increase according to correlation."
      ]
    },
    {
      "cell_type": "code",
      "execution_count": 32,
      "id": "1815c23f",
      "metadata": {
        "id": "1815c23f",
        "outputId": "f8698cc7-b21d-4ce0-913b-3f30109d65cb",
        "colab": {
          "base_uri": "https://localhost:8080/",
          "height": 228
        }
      },
      "outputs": [
        {
          "output_type": "execute_result",
          "data": {
            "text/plain": [
              "<seaborn.axisgrid.FacetGrid at 0x7f567c0f15d0>"
            ]
          },
          "metadata": {},
          "execution_count": 32
        },
        {
          "output_type": "display_data",
          "data": {
            "text/plain": [
              "<Figure size 767.85x216 with 1 Axes>"
            ],
            "image/png": "[encoded data removed]"
          },
          "metadata": {}
        }
      ],
      "source": [
        "#'CortexVol' \n",
        "\n",
        "facet= sns.FacetGrid(df,hue=\"group\", aspect=3)\n",
        "facet.map(sns.kdeplot,'cortexvol',shade= True)\n",
        "facet.set(xlim=(df['cortexvol'].min(), df['cortexvol'].max()))\n",
        "facet.add_legend()\n",
        "\n",
        "#below, demented people are having less cortex volume than normal one."
      ]
    },
    {
      "cell_type": "code",
      "execution_count": 33,
      "id": "70b626bd",
      "metadata": {
        "id": "70b626bd",
        "outputId": "a1aaa065-678f-439a-da4c-575ef3f9b556",
        "colab": {
          "base_uri": "https://localhost:8080/",
          "height": 228
        }
      },
      "outputs": [
        {
          "output_type": "execute_result",
          "data": {
            "text/plain": [
              "<seaborn.axisgrid.FacetGrid at 0x7f567a729c10>"
            ]
          },
          "metadata": {},
          "execution_count": 33
        },
        {
          "output_type": "display_data",
          "data": {
            "text/plain": [
              "<Figure size 767.85x216 with 1 Axes>"
            ],
            "image/png": "[encoded data removed]"
          },
          "metadata": {}
        }
      ],
      "source": [
        "#'TotalGrayVol'\n",
        "facet= sns.FacetGrid(df,hue=\"group\", aspect=3)\n",
        "facet.map(sns.kdeplot,'totalgrayvol',shade= True)\n",
        "facet.set(xlim=(df['totalgrayvol'].min(), df['totalgrayvol'].max()))\n",
        "facet.add_legend()\n",
        "#below, severe and moderate demented have comparitively low volumes."
      ]
    },
    {
      "cell_type": "code",
      "execution_count": 34,
      "id": "93b04333",
      "metadata": {
        "id": "93b04333",
        "outputId": "e35694eb-5322-4436-a46f-977ed96019f8",
        "colab": {
          "base_uri": "https://localhost:8080/",
          "height": 228
        }
      },
      "outputs": [
        {
          "output_type": "execute_result",
          "data": {
            "text/plain": [
              "<seaborn.axisgrid.FacetGrid at 0x7f567c0f7bd0>"
            ]
          },
          "metadata": {},
          "execution_count": 34
        },
        {
          "output_type": "display_data",
          "data": {
            "text/plain": [
              "<Figure size 767.85x216 with 1 Axes>"
            ],
            "image/png": "[encoded data removed]"
          },
          "metadata": {}
        }
      ],
      "source": [
        "#'CorticalWhiteMatterVol'\n",
        "facet= sns.FacetGrid(df,hue=\"group\", aspect=3)\n",
        "facet.map(sns.kdeplot,'corticalwhitemattervol',shade= True)\n",
        "facet.set(xlim=(df['corticalwhitemattervol'].min(), df['corticalwhitemattervol'].max()))\n",
        "facet.add_legend()\n",
        "#most of the severe demented are having less volume than others."
      ]
    },
    {
      "cell_type": "code",
      "execution_count": 35,
      "id": "52e01965",
      "metadata": {
        "id": "52e01965",
        "outputId": "b539d8b1-2a51-4be7-c5ee-519108e8b5e0",
        "colab": {
          "base_uri": "https://localhost:8080/",
          "height": 230
        }
      },
      "outputs": [
        {
          "output_type": "execute_result",
          "data": {
            "text/plain": [
              "<seaborn.axisgrid.FacetGrid at 0x7f567c1173d0>"
            ]
          },
          "metadata": {},
          "execution_count": 35
        },
        {
          "output_type": "display_data",
          "data": {
            "text/plain": [
              "<Figure size 767.85x216 with 1 Axes>"
            ],
            "image/png": "[encoded data removed]"
          },
          "metadata": {}
        }
      ],
      "source": [
        "#'TOTAL_HIPPOCAMPUS_VOLUME'\n",
        "\n",
        "facet= sns.FacetGrid(df,hue=\"group\", aspect=3)\n",
        "facet.map(sns.kdeplot,'total_hippocampus_volume',shade= True)\n",
        "facet.set(xlim=(df['total_hippocampus_volume'].min(), df['total_hippocampus_volume'].max()))\n",
        "facet.add_legend()\n",
        "\n",
        "#below it is shown very clearly the people with some dementia have lower hippocampus volume than the normal one. "
      ]
    },
    {
      "cell_type": "code",
      "execution_count": 36,
      "id": "614a2f20",
      "metadata": {
        "id": "614a2f20",
        "outputId": "8a4cd5c1-0a45-41ea-9741-1b99f6ebfe6a",
        "colab": {
          "base_uri": "https://localhost:8080/",
          "height": 443
        }
      },
      "outputs": [
        {
          "output_type": "execute_result",
          "data": {
            "text/plain": [
              "Text(0.5, 1.0, 'CDR and MMSE')"
            ]
          },
          "metadata": {},
          "execution_count": 36
        },
        {
          "output_type": "display_data",
          "data": {
            "text/plain": [
              "<Figure size 576x360 with 1 Axes>"
            ],
            "image/png": "[encoded data removed]"
          },
          "metadata": {}
        }
      ],
      "source": [
        "#'CDR'\n",
        "bar_chart('cdr')\n",
        "plt.xlabel('group')\n",
        "plt.ylabel('Number of patients')\n",
        "plt.legend()\n",
        "plt.title('CDR and MMSE')\n",
        "\n",
        "#we can see distribution of cdr values across group."
      ]
    },
    {
      "cell_type": "code",
      "execution_count": 37,
      "id": "26138baf",
      "metadata": {
        "id": "26138baf",
        "outputId": "d7951c2c-7901-4b84-b94a-bc20373435fe",
        "colab": {
          "base_uri": "https://localhost:8080/",
          "height": 443
        }
      },
      "outputs": [
        {
          "output_type": "execute_result",
          "data": {
            "text/plain": [
              "Text(0.5, 1.0, 'Race and Demented rate')"
            ]
          },
          "metadata": {},
          "execution_count": 37
        },
        {
          "output_type": "display_data",
          "data": {
            "text/plain": [
              "<Figure size 576x360 with 1 Axes>"
            ],
            "image/png": "[encoded data removed]"
          },
          "metadata": {}
        }
      ],
      "source": [
        "# Race and  Group ( Female=0, Male=1)\n",
        "bar_chart('race')\n",
        "plt.xlabel('group')\n",
        "plt.ylabel('Number of patients')\n",
        "plt.legend()\n",
        "plt.title('Race and Demented rate')\n",
        "#below we can see the people races and group distribution in data."
      ]
    },
    {
      "cell_type": "markdown",
      "source": [
        "### TRYING DIFFERENT SAMPLING TECHIQUES \n"
      ],
      "metadata": {
        "id": "mdBqTr_h_p7m"
      },
      "id": "mdBqTr_h_p7m"
    },
    {
      "cell_type": "markdown",
      "source": [
        "CHANGING THE GROUP COLUMN AS DEMENTED=1. NONDEMENTED=0"
      ],
      "metadata": {
        "id": "ZFmyPGRzAVzn"
      },
      "id": "ZFmyPGRzAVzn"
    },
    {
      "cell_type": "code",
      "source": [
        "df['group'].replace({'Demented':1,'NonDemented':0},inplace=True)"
      ],
      "metadata": {
        "id": "u8G4DnhzAf84"
      },
      "id": "u8G4DnhzAf84",
      "execution_count": 38,
      "outputs": []
    },
    {
      "cell_type": "code",
      "source": [
        "df.head()"
      ],
      "metadata": {
        "id": "meEm6D53Bh6N",
        "outputId": "77749046-0fc1-4a2d-8ceb-6aaa476d28df",
        "colab": {
          "base_uri": "https://localhost:8080/",
          "height": 270
        }
      },
      "id": "meEm6D53Bh6N",
      "execution_count": 39,
      "outputs": [
        {
          "output_type": "execute_result",
          "data": {
            "text/plain": [
              "   intracranialvol    cortexvol  totalgrayvol  corticalwhitemattervol  \\\n",
              "0      1136503.981  379446.1801   517683.1801             367262.9335   \n",
              "1      1727245.999  471180.9506   628934.9506             511207.5550   \n",
              "2      1449811.052  421337.4069   569622.4069             455826.0555   \n",
              "3      1441778.886  436061.6281   585563.6281             472832.0577   \n",
              "4      1606336.367  472022.8105   670640.2598             509406.4844   \n",
              "\n",
              "   total_hippocampus_volume  mmse  group  cdr  apoe    age  education  \\\n",
              "0                    7678.9    29      0  0.0  23.0  65.50       12.0   \n",
              "1                    8860.3    29      0  0.0  34.0  68.99       18.0   \n",
              "2                    8448.5    30      0  0.0  33.0  60.30       16.0   \n",
              "3                    8636.3    30      0  0.0  23.0  58.11       17.0   \n",
              "4                    9073.5    27      0  0.0  33.0  48.42       16.0   \n",
              "\n",
              "        race m/f  \n",
              "0  Caucasian   F  \n",
              "1  Caucasian   M  \n",
              "2  Caucasian   F  \n",
              "3  Caucasian   F  \n",
              "4      Asian   F  "
            ],
            "text/html": [
              "\n",
              "  <div id=\"df-a3571659-be96-4356-899d-4ad8e3242aef\">\n",
              "    <div class=\"colab-df-container\">\n",
              "      <div>\n",
              "<style scoped>\n",
              "    .dataframe tbody tr th:only-of-type {\n",
              "        vertical-align: middle;\n",
              "    }\n",
              "\n",
              "    .dataframe tbody tr th {\n",
              "        vertical-align: top;\n",
              "    }\n",
              "\n",
              "    .dataframe thead th {\n",
              "        text-align: right;\n",
              "    }\n",
              "</style>\n",
              "<table border=\"1\" class=\"dataframe\">\n",
              "  <thead>\n",
              "    <tr style=\"text-align: right;\">\n",
              "      <th></th>\n",
              "      <th>intracranialvol</th>\n",
              "      <th>cortexvol</th>\n",
              "      <th>totalgrayvol</th>\n",
              "      <th>corticalwhitemattervol</th>\n",
              "      <th>total_hippocampus_volume</th>\n",
              "      <th>mmse</th>\n",
              "      <th>group</th>\n",
              "      <th>cdr</th>\n",
              "      <th>apoe</th>\n",
              "      <th>age</th>\n",
              "      <th>education</th>\n",
              "      <th>race</th>\n",
              "      <th>m/f</th>\n",
              "    </tr>\n",
              "  </thead>\n",
              "  <tbody>\n",
              "    <tr>\n",
              "      <th>0</th>\n",
              "      <td>1136503.981</td>\n",
              "      <td>379446.1801</td>\n",
              "      <td>517683.1801</td>\n",
              "      <td>367262.9335</td>\n",
              "      <td>7678.9</td>\n",
              "      <td>29</td>\n",
              "      <td>0</td>\n",
              "      <td>0.0</td>\n",
              "      <td>23.0</td>\n",
              "      <td>65.50</td>\n",
              "      <td>12.0</td>\n",
              "      <td>Caucasian</td>\n",
              "      <td>F</td>\n",
              "    </tr>\n",
              "    <tr>\n",
              "      <th>1</th>\n",
              "      <td>1727245.999</td>\n",
              "      <td>471180.9506</td>\n",
              "      <td>628934.9506</td>\n",
              "      <td>511207.5550</td>\n",
              "      <td>8860.3</td>\n",
              "      <td>29</td>\n",
              "      <td>0</td>\n",
              "      <td>0.0</td>\n",
              "      <td>34.0</td>\n",
              "      <td>68.99</td>\n",
              "      <td>18.0</td>\n",
              "      <td>Caucasian</td>\n",
              "      <td>M</td>\n",
              "    </tr>\n",
              "    <tr>\n",
              "      <th>2</th>\n",
              "      <td>1449811.052</td>\n",
              "      <td>421337.4069</td>\n",
              "      <td>569622.4069</td>\n",
              "      <td>455826.0555</td>\n",
              "      <td>8448.5</td>\n",
              "      <td>30</td>\n",
              "      <td>0</td>\n",
              "      <td>0.0</td>\n",
              "      <td>33.0</td>\n",
              "      <td>60.30</td>\n",
              "      <td>16.0</td>\n",
              "      <td>Caucasian</td>\n",
              "      <td>F</td>\n",
              "    </tr>\n",
              "    <tr>\n",
              "      <th>3</th>\n",
              "      <td>1441778.886</td>\n",
              "      <td>436061.6281</td>\n",
              "      <td>585563.6281</td>\n",
              "      <td>472832.0577</td>\n",
              "      <td>8636.3</td>\n",
              "      <td>30</td>\n",
              "      <td>0</td>\n",
              "      <td>0.0</td>\n",
              "      <td>23.0</td>\n",
              "      <td>58.11</td>\n",
              "      <td>17.0</td>\n",
              "      <td>Caucasian</td>\n",
              "      <td>F</td>\n",
              "    </tr>\n",
              "    <tr>\n",
              "      <th>4</th>\n",
              "      <td>1606336.367</td>\n",
              "      <td>472022.8105</td>\n",
              "      <td>670640.2598</td>\n",
              "      <td>509406.4844</td>\n",
              "      <td>9073.5</td>\n",
              "      <td>27</td>\n",
              "      <td>0</td>\n",
              "      <td>0.0</td>\n",
              "      <td>33.0</td>\n",
              "      <td>48.42</td>\n",
              "      <td>16.0</td>\n",
              "      <td>Asian</td>\n",
              "      <td>F</td>\n",
              "    </tr>\n",
              "  </tbody>\n",
              "</table>\n",
              "</div>\n",
              "      <button class=\"colab-df-convert\" onclick=\"convertToInteractive('df-a3571659-be96-4356-899d-4ad8e3242aef')\"\n",
              "              title=\"Convert this dataframe to an interactive table.\"\n",
              "              style=\"display:none;\">\n",
              "        \n",
              "  <svg xmlns=\"http://www.w3.org/2000/svg\" height=\"24px\"viewBox=\"0 0 24 24\"\n",
              "       width=\"24px\">\n",
              "    <path d=\"M0 0h24v24H0V0z\" fill=\"none\"/>\n",
              "    <path d=\"M18.56 5.44l.94 2.06.94-2.06 2.06-.94-2.06-.94-.94-2.06-.94 2.06-2.06.94zm-11 1L8.5 8.5l.94-2.06 2.06-.94-2.06-.94L8.5 2.5l-.94 2.06-2.06.94zm10 10l.94 2.06.94-2.06 2.06-.94-2.06-.94-.94-2.06-.94 2.06-2.06.94z\"/><path d=\"M17.41 7.96l-1.37-1.37c-.4-.4-.92-.59-1.43-.59-.52 0-1.04.2-1.43.59L10.3 9.45l-7.72 7.72c-.78.78-.78 2.05 0 2.83L4 21.41c.39.39.9.59 1.41.59.51 0 1.02-.2 1.41-.59l7.78-7.78 2.81-2.81c.8-.78.8-2.07 0-2.86zM5.41 20L4 18.59l7.72-7.72 1.47 1.35L5.41 20z\"/>\n",
              "  </svg>\n",
              "      </button>\n",
              "      \n",
              "  <style>\n",
              "    .colab-df-container {\n",
              "      display:flex;\n",
              "      flex-wrap:wrap;\n",
              "      gap: 12px;\n",
              "    }\n",
              "\n",
              "    .colab-df-convert {\n",
              "      background-color: #E8F0FE;\n",
              "      border: none;\n",
              "      border-radius: 50%;\n",
              "      cursor: pointer;\n",
              "      display: none;\n",
              "      fill: #1967D2;\n",
              "      height: 32px;\n",
              "      padding: 0 0 0 0;\n",
              "      width: 32px;\n",
              "    }\n",
              "\n",
              "    .colab-df-convert:hover {\n",
              "      background-color: #E2EBFA;\n",
              "      box-shadow: 0px 1px 2px rgba(60, 64, 67, 0.3), 0px 1px 3px 1px rgba(60, 64, 67, 0.15);\n",
              "      fill: #174EA6;\n",
              "    }\n",
              "\n",
              "    [theme=dark] .colab-df-convert {\n",
              "      background-color: #3B4455;\n",
              "      fill: #D2E3FC;\n",
              "    }\n",
              "\n",
              "    [theme=dark] .colab-df-convert:hover {\n",
              "      background-color: #434B5C;\n",
              "      box-shadow: 0px 1px 3px 1px rgba(0, 0, 0, 0.15);\n",
              "      filter: drop-shadow(0px 1px 2px rgba(0, 0, 0, 0.3));\n",
              "      fill: #FFFFFF;\n",
              "    }\n",
              "  </style>\n",
              "\n",
              "      <script>\n",
              "        const buttonEl =\n",
              "          document.querySelector('#df-a3571659-be96-4356-899d-4ad8e3242aef button.colab-df-convert');\n",
              "        buttonEl.style.display =\n",
              "          google.colab.kernel.accessAllowed ? 'block' : 'none';\n",
              "\n",
              "        async function convertToInteractive(key) {\n",
              "          const element = document.querySelector('#df-a3571659-be96-4356-899d-4ad8e3242aef');\n",
              "          const dataTable =\n",
              "            await google.colab.kernel.invokeFunction('convertToInteractive',\n",
              "                                                     [key], {});\n",
              "          if (!dataTable) return;\n",
              "\n",
              "          const docLinkHtml = 'Like what you see? Visit the ' +\n",
              "            '<a target=\"_blank\" href=https://colab.research.google.com/notebooks/data_table.ipynb>data table notebook</a>'\n",
              "            + ' to learn more about interactive tables.';\n",
              "          element.innerHTML = '';\n",
              "          dataTable['output_type'] = 'display_data';\n",
              "          await google.colab.output.renderOutput(dataTable, element);\n",
              "          const docLink = document.createElement('div');\n",
              "          docLink.innerHTML = docLinkHtml;\n",
              "          element.appendChild(docLink);\n",
              "        }\n",
              "      </script>\n",
              "    </div>\n",
              "  </div>\n",
              "  "
            ]
          },
          "metadata": {},
          "execution_count": 39
        }
      ]
    },
    {
      "cell_type": "code",
      "source": [
        "df['m/f'].replace({'F':1,'M':0},inplace=True)"
      ],
      "metadata": {
        "id": "GdaZjE2aG89w"
      },
      "id": "GdaZjE2aG89w",
      "execution_count": 40,
      "outputs": []
    },
    {
      "cell_type": "code",
      "source": [
        "df.head()"
      ],
      "metadata": {
        "id": "Ls5qxOsfHRd8",
        "outputId": "62538b7b-069d-4b53-e6e6-7039bc05fae1",
        "colab": {
          "base_uri": "https://localhost:8080/",
          "height": 270
        }
      },
      "id": "Ls5qxOsfHRd8",
      "execution_count": 41,
      "outputs": [
        {
          "output_type": "execute_result",
          "data": {
            "text/plain": [
              "   intracranialvol    cortexvol  totalgrayvol  corticalwhitemattervol  \\\n",
              "0      1136503.981  379446.1801   517683.1801             367262.9335   \n",
              "1      1727245.999  471180.9506   628934.9506             511207.5550   \n",
              "2      1449811.052  421337.4069   569622.4069             455826.0555   \n",
              "3      1441778.886  436061.6281   585563.6281             472832.0577   \n",
              "4      1606336.367  472022.8105   670640.2598             509406.4844   \n",
              "\n",
              "   total_hippocampus_volume  mmse  group  cdr  apoe    age  education  \\\n",
              "0                    7678.9    29      0  0.0  23.0  65.50       12.0   \n",
              "1                    8860.3    29      0  0.0  34.0  68.99       18.0   \n",
              "2                    8448.5    30      0  0.0  33.0  60.30       16.0   \n",
              "3                    8636.3    30      0  0.0  23.0  58.11       17.0   \n",
              "4                    9073.5    27      0  0.0  33.0  48.42       16.0   \n",
              "\n",
              "        race  m/f  \n",
              "0  Caucasian    1  \n",
              "1  Caucasian    0  \n",
              "2  Caucasian    1  \n",
              "3  Caucasian    1  \n",
              "4      Asian    1  "
            ],
            "text/html": [
              "\n",
              "  <div id=\"df-87de8ed4-556d-4e2f-a19e-18ad84199aac\">\n",
              "    <div class=\"colab-df-container\">\n",
              "      <div>\n",
              "<style scoped>\n",
              "    .dataframe tbody tr th:only-of-type {\n",
              "        vertical-align: middle;\n",
              "    }\n",
              "\n",
              "    .dataframe tbody tr th {\n",
              "        vertical-align: top;\n",
              "    }\n",
              "\n",
              "    .dataframe thead th {\n",
              "        text-align: right;\n",
              "    }\n",
              "</style>\n",
              "<table border=\"1\" class=\"dataframe\">\n",
              "  <thead>\n",
              "    <tr style=\"text-align: right;\">\n",
              "      <th></th>\n",
              "      <th>intracranialvol</th>\n",
              "      <th>cortexvol</th>\n",
              "      <th>totalgrayvol</th>\n",
              "      <th>corticalwhitemattervol</th>\n",
              "      <th>total_hippocampus_volume</th>\n",
              "      <th>mmse</th>\n",
              "      <th>group</th>\n",
              "      <th>cdr</th>\n",
              "      <th>apoe</th>\n",
              "      <th>age</th>\n",
              "      <th>education</th>\n",
              "      <th>race</th>\n",
              "      <th>m/f</th>\n",
              "    </tr>\n",
              "  </thead>\n",
              "  <tbody>\n",
              "    <tr>\n",
              "      <th>0</th>\n",
              "      <td>1136503.981</td>\n",
              "      <td>379446.1801</td>\n",
              "      <td>517683.1801</td>\n",
              "      <td>367262.9335</td>\n",
              "      <td>7678.9</td>\n",
              "      <td>29</td>\n",
              "      <td>0</td>\n",
              "      <td>0.0</td>\n",
              "      <td>23.0</td>\n",
              "      <td>65.50</td>\n",
              "      <td>12.0</td>\n",
              "      <td>Caucasian</td>\n",
              "      <td>1</td>\n",
              "    </tr>\n",
              "    <tr>\n",
              "      <th>1</th>\n",
              "      <td>1727245.999</td>\n",
              "      <td>471180.9506</td>\n",
              "      <td>628934.9506</td>\n",
              "      <td>511207.5550</td>\n",
              "      <td>8860.3</td>\n",
              "      <td>29</td>\n",
              "      <td>0</td>\n",
              "      <td>0.0</td>\n",
              "      <td>34.0</td>\n",
              "      <td>68.99</td>\n",
              "      <td>18.0</td>\n",
              "      <td>Caucasian</td>\n",
              "      <td>0</td>\n",
              "    </tr>\n",
              "    <tr>\n",
              "      <th>2</th>\n",
              "      <td>1449811.052</td>\n",
              "      <td>421337.4069</td>\n",
              "      <td>569622.4069</td>\n",
              "      <td>455826.0555</td>\n",
              "      <td>8448.5</td>\n",
              "      <td>30</td>\n",
              "      <td>0</td>\n",
              "      <td>0.0</td>\n",
              "      <td>33.0</td>\n",
              "      <td>60.30</td>\n",
              "      <td>16.0</td>\n",
              "      <td>Caucasian</td>\n",
              "      <td>1</td>\n",
              "    </tr>\n",
              "    <tr>\n",
              "      <th>3</th>\n",
              "      <td>1441778.886</td>\n",
              "      <td>436061.6281</td>\n",
              "      <td>585563.6281</td>\n",
              "      <td>472832.0577</td>\n",
              "      <td>8636.3</td>\n",
              "      <td>30</td>\n",
              "      <td>0</td>\n",
              "      <td>0.0</td>\n",
              "      <td>23.0</td>\n",
              "      <td>58.11</td>\n",
              "      <td>17.0</td>\n",
              "      <td>Caucasian</td>\n",
              "      <td>1</td>\n",
              "    </tr>\n",
              "    <tr>\n",
              "      <th>4</th>\n",
              "      <td>1606336.367</td>\n",
              "      <td>472022.8105</td>\n",
              "      <td>670640.2598</td>\n",
              "      <td>509406.4844</td>\n",
              "      <td>9073.5</td>\n",
              "      <td>27</td>\n",
              "      <td>0</td>\n",
              "      <td>0.0</td>\n",
              "      <td>33.0</td>\n",
              "      <td>48.42</td>\n",
              "      <td>16.0</td>\n",
              "      <td>Asian</td>\n",
              "      <td>1</td>\n",
              "    </tr>\n",
              "  </tbody>\n",
              "</table>\n",
              "</div>\n",
              "      <button class=\"colab-df-convert\" onclick=\"convertToInteractive('df-87de8ed4-556d-4e2f-a19e-18ad84199aac')\"\n",
              "              title=\"Convert this dataframe to an interactive table.\"\n",
              "              style=\"display:none;\">\n",
              "        \n",
              "  <svg xmlns=\"http://www.w3.org/2000/svg\" height=\"24px\"viewBox=\"0 0 24 24\"\n",
              "       width=\"24px\">\n",
              "    <path d=\"M0 0h24v24H0V0z\" fill=\"none\"/>\n",
              "    <path d=\"M18.56 5.44l.94 2.06.94-2.06 2.06-.94-2.06-.94-.94-2.06-.94 2.06-2.06.94zm-11 1L8.5 8.5l.94-2.06 2.06-.94-2.06-.94L8.5 2.5l-.94 2.06-2.06.94zm10 10l.94 2.06.94-2.06 2.06-.94-2.06-.94-.94-2.06-.94 2.06-2.06.94z\"/><path d=\"M17.41 7.96l-1.37-1.37c-.4-.4-.92-.59-1.43-.59-.52 0-1.04.2-1.43.59L10.3 9.45l-7.72 7.72c-.78.78-.78 2.05 0 2.83L4 21.41c.39.39.9.59 1.41.59.51 0 1.02-.2 1.41-.59l7.78-7.78 2.81-2.81c.8-.78.8-2.07 0-2.86zM5.41 20L4 18.59l7.72-7.72 1.47 1.35L5.41 20z\"/>\n",
              "  </svg>\n",
              "      </button>\n",
              "      \n",
              "  <style>\n",
              "    .colab-df-container {\n",
              "      display:flex;\n",
              "      flex-wrap:wrap;\n",
              "      gap: 12px;\n",
              "    }\n",
              "\n",
              "    .colab-df-convert {\n",
              "      background-color: #E8F0FE;\n",
              "      border: none;\n",
              "      border-radius: 50%;\n",
              "      cursor: pointer;\n",
              "      display: none;\n",
              "      fill: #1967D2;\n",
              "      height: 32px;\n",
              "      padding: 0 0 0 0;\n",
              "      width: 32px;\n",
              "    }\n",
              "\n",
              "    .colab-df-convert:hover {\n",
              "      background-color: #E2EBFA;\n",
              "      box-shadow: 0px 1px 2px rgba(60, 64, 67, 0.3), 0px 1px 3px 1px rgba(60, 64, 67, 0.15);\n",
              "      fill: #174EA6;\n",
              "    }\n",
              "\n",
              "    [theme=dark] .colab-df-convert {\n",
              "      background-color: #3B4455;\n",
              "      fill: #D2E3FC;\n",
              "    }\n",
              "\n",
              "    [theme=dark] .colab-df-convert:hover {\n",
              "      background-color: #434B5C;\n",
              "      box-shadow: 0px 1px 3px 1px rgba(0, 0, 0, 0.15);\n",
              "      filter: drop-shadow(0px 1px 2px rgba(0, 0, 0, 0.3));\n",
              "      fill: #FFFFFF;\n",
              "    }\n",
              "  </style>\n",
              "\n",
              "      <script>\n",
              "        const buttonEl =\n",
              "          document.querySelector('#df-87de8ed4-556d-4e2f-a19e-18ad84199aac button.colab-df-convert');\n",
              "        buttonEl.style.display =\n",
              "          google.colab.kernel.accessAllowed ? 'block' : 'none';\n",
              "\n",
              "        async function convertToInteractive(key) {\n",
              "          const element = document.querySelector('#df-87de8ed4-556d-4e2f-a19e-18ad84199aac');\n",
              "          const dataTable =\n",
              "            await google.colab.kernel.invokeFunction('convertToInteractive',\n",
              "                                                     [key], {});\n",
              "          if (!dataTable) return;\n",
              "\n",
              "          const docLinkHtml = 'Like what you see? Visit the ' +\n",
              "            '<a target=\"_blank\" href=https://colab.research.google.com/notebooks/data_table.ipynb>data table notebook</a>'\n",
              "            + ' to learn more about interactive tables.';\n",
              "          element.innerHTML = '';\n",
              "          dataTable['output_type'] = 'display_data';\n",
              "          await google.colab.output.renderOutput(dataTable, element);\n",
              "          const docLink = document.createElement('div');\n",
              "          docLink.innerHTML = docLinkHtml;\n",
              "          element.appendChild(docLink);\n",
              "        }\n",
              "      </script>\n",
              "    </div>\n",
              "  </div>\n",
              "  "
            ]
          },
          "metadata": {},
          "execution_count": 41
        }
      ]
    },
    {
      "cell_type": "markdown",
      "source": [
        "## One hot encoding for categorical column"
      ],
      "metadata": {
        "id": "Y63ZxAqlHWsD"
      },
      "id": "Y63ZxAqlHWsD"
    },
    {
      "cell_type": "code",
      "source": [
        "df = pd.get_dummies(df, columns = ['race'])"
      ],
      "metadata": {
        "id": "3NEjiN4zHVeK"
      },
      "id": "3NEjiN4zHVeK",
      "execution_count": 42,
      "outputs": []
    },
    {
      "cell_type": "code",
      "source": [
        "df.head()"
      ],
      "metadata": {
        "id": "csnNF0czIR88",
        "outputId": "27e793b8-19b4-4ec1-a0a7-447a47e2b34e",
        "colab": {
          "base_uri": "https://localhost:8080/",
          "height": 288
        }
      },
      "id": "csnNF0czIR88",
      "execution_count": 43,
      "outputs": [
        {
          "output_type": "execute_result",
          "data": {
            "text/plain": [
              "   intracranialvol    cortexvol  totalgrayvol  corticalwhitemattervol  \\\n",
              "0      1136503.981  379446.1801   517683.1801             367262.9335   \n",
              "1      1727245.999  471180.9506   628934.9506             511207.5550   \n",
              "2      1449811.052  421337.4069   569622.4069             455826.0555   \n",
              "3      1441778.886  436061.6281   585563.6281             472832.0577   \n",
              "4      1606336.367  472022.8105   670640.2598             509406.4844   \n",
              "\n",
              "   total_hippocampus_volume  mmse  group  cdr  apoe    age  education  m/f  \\\n",
              "0                    7678.9    29      0  0.0  23.0  65.50       12.0    1   \n",
              "1                    8860.3    29      0  0.0  34.0  68.99       18.0    0   \n",
              "2                    8448.5    30      0  0.0  33.0  60.30       16.0    1   \n",
              "3                    8636.3    30      0  0.0  23.0  58.11       17.0    1   \n",
              "4                    9073.5    27      0  0.0  33.0  48.42       16.0    1   \n",
              "\n",
              "   race_African American  race_Asian  race_Caucasian  \n",
              "0                      0           0               1  \n",
              "1                      0           0               1  \n",
              "2                      0           0               1  \n",
              "3                      0           0               1  \n",
              "4                      0           1               0  "
            ],
            "text/html": [
              "\n",
              "  <div id=\"df-dce5848f-eeb8-4e19-b2ac-56e99091e4c9\">\n",
              "    <div class=\"colab-df-container\">\n",
              "      <div>\n",
              "<style scoped>\n",
              "    .dataframe tbody tr th:only-of-type {\n",
              "        vertical-align: middle;\n",
              "    }\n",
              "\n",
              "    .dataframe tbody tr th {\n",
              "        vertical-align: top;\n",
              "    }\n",
              "\n",
              "    .dataframe thead th {\n",
              "        text-align: right;\n",
              "    }\n",
              "</style>\n",
              "<table border=\"1\" class=\"dataframe\">\n",
              "  <thead>\n",
              "    <tr style=\"text-align: right;\">\n",
              "      <th></th>\n",
              "      <th>intracranialvol</th>\n",
              "      <th>cortexvol</th>\n",
              "      <th>totalgrayvol</th>\n",
              "      <th>corticalwhitemattervol</th>\n",
              "      <th>total_hippocampus_volume</th>\n",
              "      <th>mmse</th>\n",
              "      <th>group</th>\n",
              "      <th>cdr</th>\n",
              "      <th>apoe</th>\n",
              "      <th>age</th>\n",
              "      <th>education</th>\n",
              "      <th>m/f</th>\n",
              "      <th>race_African American</th>\n",
              "      <th>race_Asian</th>\n",
              "      <th>race_Caucasian</th>\n",
              "    </tr>\n",
              "  </thead>\n",
              "  <tbody>\n",
              "    <tr>\n",
              "      <th>0</th>\n",
              "      <td>1136503.981</td>\n",
              "      <td>379446.1801</td>\n",
              "      <td>517683.1801</td>\n",
              "      <td>367262.9335</td>\n",
              "      <td>7678.9</td>\n",
              "      <td>29</td>\n",
              "      <td>0</td>\n",
              "      <td>0.0</td>\n",
              "      <td>23.0</td>\n",
              "      <td>65.50</td>\n",
              "      <td>12.0</td>\n",
              "      <td>1</td>\n",
              "      <td>0</td>\n",
              "      <td>0</td>\n",
              "      <td>1</td>\n",
              "    </tr>\n",
              "    <tr>\n",
              "      <th>1</th>\n",
              "      <td>1727245.999</td>\n",
              "      <td>471180.9506</td>\n",
              "      <td>628934.9506</td>\n",
              "      <td>511207.5550</td>\n",
              "      <td>8860.3</td>\n",
              "      <td>29</td>\n",
              "      <td>0</td>\n",
              "      <td>0.0</td>\n",
              "      <td>34.0</td>\n",
              "      <td>68.99</td>\n",
              "      <td>18.0</td>\n",
              "      <td>0</td>\n",
              "      <td>0</td>\n",
              "      <td>0</td>\n",
              "      <td>1</td>\n",
              "    </tr>\n",
              "    <tr>\n",
              "      <th>2</th>\n",
              "      <td>1449811.052</td>\n",
              "      <td>421337.4069</td>\n",
              "      <td>569622.4069</td>\n",
              "      <td>455826.0555</td>\n",
              "      <td>8448.5</td>\n",
              "      <td>30</td>\n",
              "      <td>0</td>\n",
              "      <td>0.0</td>\n",
              "      <td>33.0</td>\n",
              "      <td>60.30</td>\n",
              "      <td>16.0</td>\n",
              "      <td>1</td>\n",
              "      <td>0</td>\n",
              "      <td>0</td>\n",
              "      <td>1</td>\n",
              "    </tr>\n",
              "    <tr>\n",
              "      <th>3</th>\n",
              "      <td>1441778.886</td>\n",
              "      <td>436061.6281</td>\n",
              "      <td>585563.6281</td>\n",
              "      <td>472832.0577</td>\n",
              "      <td>8636.3</td>\n",
              "      <td>30</td>\n",
              "      <td>0</td>\n",
              "      <td>0.0</td>\n",
              "      <td>23.0</td>\n",
              "      <td>58.11</td>\n",
              "      <td>17.0</td>\n",
              "      <td>1</td>\n",
              "      <td>0</td>\n",
              "      <td>0</td>\n",
              "      <td>1</td>\n",
              "    </tr>\n",
              "    <tr>\n",
              "      <th>4</th>\n",
              "      <td>1606336.367</td>\n",
              "      <td>472022.8105</td>\n",
              "      <td>670640.2598</td>\n",
              "      <td>509406.4844</td>\n",
              "      <td>9073.5</td>\n",
              "      <td>27</td>\n",
              "      <td>0</td>\n",
              "      <td>0.0</td>\n",
              "      <td>33.0</td>\n",
              "      <td>48.42</td>\n",
              "      <td>16.0</td>\n",
              "      <td>1</td>\n",
              "      <td>0</td>\n",
              "      <td>1</td>\n",
              "      <td>0</td>\n",
              "    </tr>\n",
              "  </tbody>\n",
              "</table>\n",
              "</div>\n",
              "      <button class=\"colab-df-convert\" onclick=\"convertToInteractive('df-dce5848f-eeb8-4e19-b2ac-56e99091e4c9')\"\n",
              "              title=\"Convert this dataframe to an interactive table.\"\n",
              "              style=\"display:none;\">\n",
              "        \n",
              "  <svg xmlns=\"http://www.w3.org/2000/svg\" height=\"24px\"viewBox=\"0 0 24 24\"\n",
              "       width=\"24px\">\n",
              "    <path d=\"M0 0h24v24H0V0z\" fill=\"none\"/>\n",
              "    <path d=\"M18.56 5.44l.94 2.06.94-2.06 2.06-.94-2.06-.94-.94-2.06-.94 2.06-2.06.94zm-11 1L8.5 8.5l.94-2.06 2.06-.94-2.06-.94L8.5 2.5l-.94 2.06-2.06.94zm10 10l.94 2.06.94-2.06 2.06-.94-2.06-.94-.94-2.06-.94 2.06-2.06.94z\"/><path d=\"M17.41 7.96l-1.37-1.37c-.4-.4-.92-.59-1.43-.59-.52 0-1.04.2-1.43.59L10.3 9.45l-7.72 7.72c-.78.78-.78 2.05 0 2.83L4 21.41c.39.39.9.59 1.41.59.51 0 1.02-.2 1.41-.59l7.78-7.78 2.81-2.81c.8-.78.8-2.07 0-2.86zM5.41 20L4 18.59l7.72-7.72 1.47 1.35L5.41 20z\"/>\n",
              "  </svg>\n",
              "      </button>\n",
              "      \n",
              "  <style>\n",
              "    .colab-df-container {\n",
              "      display:flex;\n",
              "      flex-wrap:wrap;\n",
              "      gap: 12px;\n",
              "    }\n",
              "\n",
              "    .colab-df-convert {\n",
              "      background-color: #E8F0FE;\n",
              "      border: none;\n",
              "      border-radius: 50%;\n",
              "      cursor: pointer;\n",
              "      display: none;\n",
              "      fill: #1967D2;\n",
              "      height: 32px;\n",
              "      padding: 0 0 0 0;\n",
              "      width: 32px;\n",
              "    }\n",
              "\n",
              "    .colab-df-convert:hover {\n",
              "      background-color: #E2EBFA;\n",
              "      box-shadow: 0px 1px 2px rgba(60, 64, 67, 0.3), 0px 1px 3px 1px rgba(60, 64, 67, 0.15);\n",
              "      fill: #174EA6;\n",
              "    }\n",
              "\n",
              "    [theme=dark] .colab-df-convert {\n",
              "      background-color: #3B4455;\n",
              "      fill: #D2E3FC;\n",
              "    }\n",
              "\n",
              "    [theme=dark] .colab-df-convert:hover {\n",
              "      background-color: #434B5C;\n",
              "      box-shadow: 0px 1px 3px 1px rgba(0, 0, 0, 0.15);\n",
              "      filter: drop-shadow(0px 1px 2px rgba(0, 0, 0, 0.3));\n",
              "      fill: #FFFFFF;\n",
              "    }\n",
              "  </style>\n",
              "\n",
              "      <script>\n",
              "        const buttonEl =\n",
              "          document.querySelector('#df-dce5848f-eeb8-4e19-b2ac-56e99091e4c9 button.colab-df-convert');\n",
              "        buttonEl.style.display =\n",
              "          google.colab.kernel.accessAllowed ? 'block' : 'none';\n",
              "\n",
              "        async function convertToInteractive(key) {\n",
              "          const element = document.querySelector('#df-dce5848f-eeb8-4e19-b2ac-56e99091e4c9');\n",
              "          const dataTable =\n",
              "            await google.colab.kernel.invokeFunction('convertToInteractive',\n",
              "                                                     [key], {});\n",
              "          if (!dataTable) return;\n",
              "\n",
              "          const docLinkHtml = 'Like what you see? Visit the ' +\n",
              "            '<a target=\"_blank\" href=https://colab.research.google.com/notebooks/data_table.ipynb>data table notebook</a>'\n",
              "            + ' to learn more about interactive tables.';\n",
              "          element.innerHTML = '';\n",
              "          dataTable['output_type'] = 'display_data';\n",
              "          await google.colab.output.renderOutput(dataTable, element);\n",
              "          const docLink = document.createElement('div');\n",
              "          docLink.innerHTML = docLinkHtml;\n",
              "          element.appendChild(docLink);\n",
              "        }\n",
              "      </script>\n",
              "    </div>\n",
              "  </div>\n",
              "  "
            ]
          },
          "metadata": {},
          "execution_count": 43
        }
      ]
    },
    {
      "cell_type": "markdown",
      "source": [
        "Point to note - Most of the subjects are caucasians so the predicted values in the end will work better with Caucaian race as the sample have majority of caucasian subjects."
      ],
      "metadata": {
        "id": "TYhHl78uIXas"
      },
      "id": "TYhHl78uIXas"
    },
    {
      "cell_type": "markdown",
      "source": [
        "## Standardizing the columns:-"
      ],
      "metadata": {
        "id": "zNFSS9hlI0XO"
      },
      "id": "zNFSS9hlI0XO"
    },
    {
      "cell_type": "code",
      "source": [
        "cols_to_scale = ['intracranialvol','cortexvol','totalgrayvol','corticalwhitemattervol','total_hippocampus_volume','mmse','cdr','apoe','age','education']\n",
        "\n",
        "from sklearn.preprocessing import MinMaxScaler\n",
        "scaler = MinMaxScaler()\n",
        "df[cols_to_scale] = scaler.fit_transform(df[cols_to_scale])"
      ],
      "metadata": {
        "id": "poDAPBXRJSUM"
      },
      "id": "poDAPBXRJSUM",
      "execution_count": 44,
      "outputs": []
    },
    {
      "cell_type": "markdown",
      "source": [
        "After Standardization-"
      ],
      "metadata": {
        "id": "WxbELtPuKCQp"
      },
      "id": "WxbELtPuKCQp"
    },
    {
      "cell_type": "code",
      "source": [
        "df.head()"
      ],
      "metadata": {
        "id": "FpT4d4J-KBQg",
        "outputId": "8dcb3884-dd25-4a6e-cfbe-7c8113a0c617",
        "colab": {
          "base_uri": "https://localhost:8080/",
          "height": 288
        }
      },
      "id": "FpT4d4J-KBQg",
      "execution_count": 45,
      "outputs": [
        {
          "output_type": "execute_result",
          "data": {
            "text/plain": [
              "   intracranialvol  cortexvol  totalgrayvol  corticalwhitemattervol  \\\n",
              "0         0.111421   0.487510      0.372655                0.159824   \n",
              "1         0.593887   0.756005      0.661793                0.362635   \n",
              "2         0.367302   0.610120      0.507643                0.284605   \n",
              "3         0.360742   0.653216      0.549073                0.308566   \n",
              "4         0.495138   0.758469      0.770183                0.360098   \n",
              "\n",
              "   total_hippocampus_volume      mmse  group  cdr      apoe       age  \\\n",
              "0                  0.613154  0.965517      0  0.0  0.045455  0.419467   \n",
              "1                  0.756272  0.965517      0  0.0  0.545455  0.483563   \n",
              "2                  0.706385  1.000000      0  0.0  0.500000  0.323967   \n",
              "3                  0.729136  1.000000      0  0.0  0.045455  0.283747   \n",
              "4                  0.782100  0.896552      0  0.0  0.500000  0.105785   \n",
              "\n",
              "   education  m/f  race_African American  race_Asian  race_Caucasian  \n",
              "0   0.227273    1                      0           0               1  \n",
              "1   0.500000    0                      0           0               1  \n",
              "2   0.409091    1                      0           0               1  \n",
              "3   0.454545    1                      0           0               1  \n",
              "4   0.409091    1                      0           1               0  "
            ],
            "text/html": [
              "\n",
              "  <div id=\"df-85a60f0d-49ec-4a00-bdad-683d48268c82\">\n",
              "    <div class=\"colab-df-container\">\n",
              "      <div>\n",
              "<style scoped>\n",
              "    .dataframe tbody tr th:only-of-type {\n",
              "        vertical-align: middle;\n",
              "    }\n",
              "\n",
              "    .dataframe tbody tr th {\n",
              "        vertical-align: top;\n",
              "    }\n",
              "\n",
              "    .dataframe thead th {\n",
              "        text-align: right;\n",
              "    }\n",
              "</style>\n",
              "<table border=\"1\" class=\"dataframe\">\n",
              "  <thead>\n",
              "    <tr style=\"text-align: right;\">\n",
              "      <th></th>\n",
              "      <th>intracranialvol</th>\n",
              "      <th>cortexvol</th>\n",
              "      <th>totalgrayvol</th>\n",
              "      <th>corticalwhitemattervol</th>\n",
              "      <th>total_hippocampus_volume</th>\n",
              "      <th>mmse</th>\n",
              "      <th>group</th>\n",
              "      <th>cdr</th>\n",
              "      <th>apoe</th>\n",
              "      <th>age</th>\n",
              "      <th>education</th>\n",
              "      <th>m/f</th>\n",
              "      <th>race_African American</th>\n",
              "      <th>race_Asian</th>\n",
              "      <th>race_Caucasian</th>\n",
              "    </tr>\n",
              "  </thead>\n",
              "  <tbody>\n",
              "    <tr>\n",
              "      <th>0</th>\n",
              "      <td>0.111421</td>\n",
              "      <td>0.487510</td>\n",
              "      <td>0.372655</td>\n",
              "      <td>0.159824</td>\n",
              "      <td>0.613154</td>\n",
              "      <td>0.965517</td>\n",
              "      <td>0</td>\n",
              "      <td>0.0</td>\n",
              "      <td>0.045455</td>\n",
              "      <td>0.419467</td>\n",
              "      <td>0.227273</td>\n",
              "      <td>1</td>\n",
              "      <td>0</td>\n",
              "      <td>0</td>\n",
              "      <td>1</td>\n",
              "    </tr>\n",
              "    <tr>\n",
              "      <th>1</th>\n",
              "      <td>0.593887</td>\n",
              "      <td>0.756005</td>\n",
              "      <td>0.661793</td>\n",
              "      <td>0.362635</td>\n",
              "      <td>0.756272</td>\n",
              "      <td>0.965517</td>\n",
              "      <td>0</td>\n",
              "      <td>0.0</td>\n",
              "      <td>0.545455</td>\n",
              "      <td>0.483563</td>\n",
              "      <td>0.500000</td>\n",
              "      <td>0</td>\n",
              "      <td>0</td>\n",
              "      <td>0</td>\n",
              "      <td>1</td>\n",
              "    </tr>\n",
              "    <tr>\n",
              "      <th>2</th>\n",
              "      <td>0.367302</td>\n",
              "      <td>0.610120</td>\n",
              "      <td>0.507643</td>\n",
              "      <td>0.284605</td>\n",
              "      <td>0.706385</td>\n",
              "      <td>1.000000</td>\n",
              "      <td>0</td>\n",
              "      <td>0.0</td>\n",
              "      <td>0.500000</td>\n",
              "      <td>0.323967</td>\n",
              "      <td>0.409091</td>\n",
              "      <td>1</td>\n",
              "      <td>0</td>\n",
              "      <td>0</td>\n",
              "      <td>1</td>\n",
              "    </tr>\n",
              "    <tr>\n",
              "      <th>3</th>\n",
              "      <td>0.360742</td>\n",
              "      <td>0.653216</td>\n",
              "      <td>0.549073</td>\n",
              "      <td>0.308566</td>\n",
              "      <td>0.729136</td>\n",
              "      <td>1.000000</td>\n",
              "      <td>0</td>\n",
              "      <td>0.0</td>\n",
              "      <td>0.045455</td>\n",
              "      <td>0.283747</td>\n",
              "      <td>0.454545</td>\n",
              "      <td>1</td>\n",
              "      <td>0</td>\n",
              "      <td>0</td>\n",
              "      <td>1</td>\n",
              "    </tr>\n",
              "    <tr>\n",
              "      <th>4</th>\n",
              "      <td>0.495138</td>\n",
              "      <td>0.758469</td>\n",
              "      <td>0.770183</td>\n",
              "      <td>0.360098</td>\n",
              "      <td>0.782100</td>\n",
              "      <td>0.896552</td>\n",
              "      <td>0</td>\n",
              "      <td>0.0</td>\n",
              "      <td>0.500000</td>\n",
              "      <td>0.105785</td>\n",
              "      <td>0.409091</td>\n",
              "      <td>1</td>\n",
              "      <td>0</td>\n",
              "      <td>1</td>\n",
              "      <td>0</td>\n",
              "    </tr>\n",
              "  </tbody>\n",
              "</table>\n",
              "</div>\n",
              "      <button class=\"colab-df-convert\" onclick=\"convertToInteractive('df-85a60f0d-49ec-4a00-bdad-683d48268c82')\"\n",
              "              title=\"Convert this dataframe to an interactive table.\"\n",
              "              style=\"display:none;\">\n",
              "        \n",
              "  <svg xmlns=\"http://www.w3.org/2000/svg\" height=\"24px\"viewBox=\"0 0 24 24\"\n",
              "       width=\"24px\">\n",
              "    <path d=\"M0 0h24v24H0V0z\" fill=\"none\"/>\n",
              "    <path d=\"M18.56 5.44l.94 2.06.94-2.06 2.06-.94-2.06-.94-.94-2.06-.94 2.06-2.06.94zm-11 1L8.5 8.5l.94-2.06 2.06-.94-2.06-.94L8.5 2.5l-.94 2.06-2.06.94zm10 10l.94 2.06.94-2.06 2.06-.94-2.06-.94-.94-2.06-.94 2.06-2.06.94z\"/><path d=\"M17.41 7.96l-1.37-1.37c-.4-.4-.92-.59-1.43-.59-.52 0-1.04.2-1.43.59L10.3 9.45l-7.72 7.72c-.78.78-.78 2.05 0 2.83L4 21.41c.39.39.9.59 1.41.59.51 0 1.02-.2 1.41-.59l7.78-7.78 2.81-2.81c.8-.78.8-2.07 0-2.86zM5.41 20L4 18.59l7.72-7.72 1.47 1.35L5.41 20z\"/>\n",
              "  </svg>\n",
              "      </button>\n",
              "      \n",
              "  <style>\n",
              "    .colab-df-container {\n",
              "      display:flex;\n",
              "      flex-wrap:wrap;\n",
              "      gap: 12px;\n",
              "    }\n",
              "\n",
              "    .colab-df-convert {\n",
              "      background-color: #E8F0FE;\n",
              "      border: none;\n",
              "      border-radius: 50%;\n",
              "      cursor: pointer;\n",
              "      display: none;\n",
              "      fill: #1967D2;\n",
              "      height: 32px;\n",
              "      padding: 0 0 0 0;\n",
              "      width: 32px;\n",
              "    }\n",
              "\n",
              "    .colab-df-convert:hover {\n",
              "      background-color: #E2EBFA;\n",
              "      box-shadow: 0px 1px 2px rgba(60, 64, 67, 0.3), 0px 1px 3px 1px rgba(60, 64, 67, 0.15);\n",
              "      fill: #174EA6;\n",
              "    }\n",
              "\n",
              "    [theme=dark] .colab-df-convert {\n",
              "      background-color: #3B4455;\n",
              "      fill: #D2E3FC;\n",
              "    }\n",
              "\n",
              "    [theme=dark] .colab-df-convert:hover {\n",
              "      background-color: #434B5C;\n",
              "      box-shadow: 0px 1px 3px 1px rgba(0, 0, 0, 0.15);\n",
              "      filter: drop-shadow(0px 1px 2px rgba(0, 0, 0, 0.3));\n",
              "      fill: #FFFFFF;\n",
              "    }\n",
              "  </style>\n",
              "\n",
              "      <script>\n",
              "        const buttonEl =\n",
              "          document.querySelector('#df-85a60f0d-49ec-4a00-bdad-683d48268c82 button.colab-df-convert');\n",
              "        buttonEl.style.display =\n",
              "          google.colab.kernel.accessAllowed ? 'block' : 'none';\n",
              "\n",
              "        async function convertToInteractive(key) {\n",
              "          const element = document.querySelector('#df-85a60f0d-49ec-4a00-bdad-683d48268c82');\n",
              "          const dataTable =\n",
              "            await google.colab.kernel.invokeFunction('convertToInteractive',\n",
              "                                                     [key], {});\n",
              "          if (!dataTable) return;\n",
              "\n",
              "          const docLinkHtml = 'Like what you see? Visit the ' +\n",
              "            '<a target=\"_blank\" href=https://colab.research.google.com/notebooks/data_table.ipynb>data table notebook</a>'\n",
              "            + ' to learn more about interactive tables.';\n",
              "          element.innerHTML = '';\n",
              "          dataTable['output_type'] = 'display_data';\n",
              "          await google.colab.output.renderOutput(dataTable, element);\n",
              "          const docLink = document.createElement('div');\n",
              "          docLink.innerHTML = docLinkHtml;\n",
              "          element.appendChild(docLink);\n",
              "        }\n",
              "      </script>\n",
              "    </div>\n",
              "  </div>\n",
              "  "
            ]
          },
          "metadata": {},
          "execution_count": 45
        }
      ]
    },
    {
      "cell_type": "code",
      "source": [],
      "metadata": {
        "id": "5QF43tyDnjt5"
      },
      "id": "5QF43tyDnjt5",
      "execution_count": 45,
      "outputs": []
    },
    {
      "cell_type": "code",
      "source": [
        "#Heatmap\n",
        "cor = df.corr()\n",
        "plt.figure(figsize=(16,12))\n",
        "sns.heatmap(cor, xticklabels=cor.columns.values,yticklabels=cor.columns.values, annot=True)\n",
        "plt.show()"
      ],
      "metadata": {
        "id": "EpCOxvEQKQJI",
        "outputId": "46d89af6-046e-4bd0-ec44-af891311fa1b",
        "colab": {
          "base_uri": "https://localhost:8080/",
          "height": 606
        }
      },
      "id": "EpCOxvEQKQJI",
      "execution_count": 46,
      "outputs": [
        {
          "output_type": "display_data",
          "data": {
            "text/plain": [
              "<Figure size 1152x864 with 2 Axes>"
            ],
            "image/png": "[encoded data removed]"
          },
          "metadata": {}
        }
      ]
    },
    {
      "cell_type": "code",
      "source": [
        "df.shape"
      ],
      "metadata": {
        "id": "8amyROPVLtuX",
        "outputId": "1a540b79-db1d-4a5b-87ed-9199c1b2974c",
        "colab": {
          "base_uri": "https://localhost:8080/"
        }
      },
      "id": "8amyROPVLtuX",
      "execution_count": 47,
      "outputs": [
        {
          "output_type": "execute_result",
          "data": {
            "text/plain": [
              "(1026, 15)"
            ]
          },
          "metadata": {},
          "execution_count": 47
        }
      ]
    },
    {
      "cell_type": "code",
      "source": [
        "df.dtypes"
      ],
      "metadata": {
        "id": "aqjSP0giL0Iy",
        "outputId": "c42449f9-2cd6-4732-e000-ec0c11e8a7cb",
        "colab": {
          "base_uri": "https://localhost:8080/"
        }
      },
      "id": "aqjSP0giL0Iy",
      "execution_count": 48,
      "outputs": [
        {
          "output_type": "execute_result",
          "data": {
            "text/plain": [
              "intracranialvol             float64\n",
              "cortexvol                   float64\n",
              "totalgrayvol                float64\n",
              "corticalwhitemattervol      float64\n",
              "total_hippocampus_volume    float64\n",
              "mmse                        float64\n",
              "group                         int64\n",
              "cdr                         float64\n",
              "apoe                        float64\n",
              "age                         float64\n",
              "education                   float64\n",
              "m/f                           int64\n",
              "race_African American         uint8\n",
              "race_Asian                    uint8\n",
              "race_Caucasian                uint8\n",
              "dtype: object"
            ]
          },
          "metadata": {},
          "execution_count": 48
        }
      ]
    },
    {
      "cell_type": "markdown",
      "source": [
        "### Model"
      ],
      "metadata": {
        "id": "O4Ft1psHnf3N"
      },
      "id": "O4Ft1psHnf3N"
    },
    {
      "cell_type": "code",
      "source": [
        "X = df.drop('group',axis='columns')\n",
        "y = df['group']"
      ],
      "metadata": {
        "id": "H9MoZntgoqm5"
      },
      "id": "H9MoZntgoqm5",
      "execution_count": 50,
      "outputs": []
    },
    {
      "cell_type": "code",
      "source": [
        "from sklearn.model_selection import train_test_split\n",
        "X_train, X_test, y_train, y_test = train_test_split(X, y, test_size=0.25, random_state=42)\n"
      ],
      "metadata": {
        "id": "MYxdeNjCnpbf"
      },
      "id": "MYxdeNjCnpbf",
      "execution_count": 51,
      "outputs": []
    },
    {
      "cell_type": "code",
      "source": [
        "#shapes of training and test datasets.\n",
        "print(X_train.shape)\n",
        "print(X_test.shape)\n",
        "print(y_train.shape)\n",
        "print(y_test.shape)"
      ],
      "metadata": {
        "id": "RYQB3hZ4npYx",
        "outputId": "27cd95ee-9bf5-4fe9-8931-08ce1a8441c3",
        "colab": {
          "base_uri": "https://localhost:8080/"
        }
      },
      "id": "RYQB3hZ4npYx",
      "execution_count": 52,
      "outputs": [
        {
          "output_type": "stream",
          "name": "stdout",
          "text": [
            "(769, 14)\n",
            "(257, 14)\n",
            "(769,)\n",
            "(257,)\n"
          ]
        }
      ]
    },
    {
      "cell_type": "code",
      "source": [
        "from sklearn.linear_model import LogisticRegression\n",
        "from sklearn.metrics import confusion_matrix, classification_report"
      ],
      "metadata": {
        "id": "pHrfaTjpo9So"
      },
      "id": "pHrfaTjpo9So",
      "execution_count": 53,
      "outputs": []
    },
    {
      "cell_type": "markdown",
      "source": [
        "## **Logistic Regression on imbalanced classes**"
      ],
      "metadata": {
        "id": "f-RkSR-PFdaI"
      },
      "id": "f-RkSR-PFdaI"
    },
    {
      "cell_type": "code",
      "source": [
        "lr = LogisticRegression(multi_class='ovr', solver='liblinear')\n",
        "lr.fit(X_train, y_train)"
      ],
      "metadata": {
        "id": "yYeiywMCo9Pu",
        "outputId": "2d180611-28d5-44fe-b1f6-22de3ecae289",
        "colab": {
          "base_uri": "https://localhost:8080/"
        }
      },
      "id": "yYeiywMCo9Pu",
      "execution_count": 54,
      "outputs": [
        {
          "output_type": "execute_result",
          "data": {
            "text/plain": [
              "LogisticRegression(multi_class='ovr', solver='liblinear')"
            ]
          },
          "metadata": {},
          "execution_count": 54
        }
      ]
    },
    {
      "cell_type": "code",
      "source": [
        "test_score = lr.score(X_test, y_test)\n",
        "\n",
        "print(\"Test accuracy is \", test_score)\n",
        "\n",
        "PredictedOutput = lr.predict(X_test)\n",
        "\n",
        "print(\"Classification Report: \\n\", classification_report(y_test, PredictedOutput))"
      ],
      "metadata": {
        "id": "L--esTE8pPxy",
        "outputId": "c358bed1-9b81-4508-bf86-85eec06e07e1",
        "colab": {
          "base_uri": "https://localhost:8080/"
        }
      },
      "id": "L--esTE8pPxy",
      "execution_count": 55,
      "outputs": [
        {
          "output_type": "stream",
          "name": "stdout",
          "text": [
            "Test accuracy is  0.9455252918287937\n",
            "Classification Report: \n",
            "               precision    recall  f1-score   support\n",
            "\n",
            "           0       0.95      0.99      0.97       209\n",
            "           1       0.95      0.75      0.84        48\n",
            "\n",
            "    accuracy                           0.95       257\n",
            "   macro avg       0.95      0.87      0.90       257\n",
            "weighted avg       0.95      0.95      0.94       257\n",
            "\n"
          ]
        }
      ]
    },
    {
      "cell_type": "code",
      "source": [
        "cm=confusion_matrix(y_test,PredictedOutput)\n",
        "print(cm)"
      ],
      "metadata": {
        "id": "-LqEjj5dpPl6",
        "outputId": "ae4d35d5-283a-4bce-9106-3e80dad88051",
        "colab": {
          "base_uri": "https://localhost:8080/"
        }
      },
      "id": "-LqEjj5dpPl6",
      "execution_count": 56,
      "outputs": [
        {
          "output_type": "stream",
          "name": "stdout",
          "text": [
            "[[207   2]\n",
            " [ 12  36]]\n"
          ]
        }
      ]
    },
    {
      "cell_type": "code",
      "source": [
        "# Class count\n",
        "count_class_0, count_class_1 = df.group.value_counts()\n",
        "print(count_class_0,count_class_1)\n"
      ],
      "metadata": {
        "id": "2G42TUEuL4-u",
        "outputId": "a8fd07b5-302b-40dd-89b8-df6f1dcfeccb",
        "colab": {
          "base_uri": "https://localhost:8080/"
        }
      },
      "id": "2G42TUEuL4-u",
      "execution_count": 57,
      "outputs": [
        {
          "output_type": "stream",
          "name": "stdout",
          "text": [
            "836 190\n"
          ]
        }
      ]
    },
    {
      "cell_type": "code",
      "source": [
        "# Divide by class\n",
        "df_class_0 = df[df['group'] == 0]\n",
        "df_class_1 = df[df['group'] == 1]"
      ],
      "metadata": {
        "id": "gu_SF2prMq3q"
      },
      "id": "gu_SF2prMq3q",
      "execution_count": 58,
      "outputs": []
    },
    {
      "cell_type": "markdown",
      "source": [
        "UNDERSAMPLING"
      ],
      "metadata": {
        "id": "NgWhkI6D_8jS"
      },
      "id": "NgWhkI6D_8jS"
    },
    {
      "cell_type": "code",
      "source": [
        "# Undersample 0-class and concat the DataFrames of both class\n",
        "df_class_0_under = df_class_0.sample(count_class_1)\n",
        "df_test_under = pd.concat([df_class_0_under, df_class_1], axis=0)\n",
        "\n",
        "print('Random under-sampling:')\n",
        "print(df_test_under.group.value_counts())"
      ],
      "metadata": {
        "id": "c52JWyCA_65U",
        "outputId": "4f364883-cc2c-4c4a-a8de-aa21b121238a",
        "colab": {
          "base_uri": "https://localhost:8080/"
        }
      },
      "id": "c52JWyCA_65U",
      "execution_count": 59,
      "outputs": [
        {
          "output_type": "stream",
          "name": "stdout",
          "text": [
            "Random under-sampling:\n",
            "0    190\n",
            "1    190\n",
            "Name: group, dtype: int64\n"
          ]
        }
      ]
    },
    {
      "cell_type": "code",
      "source": [
        "X = df_test_under.drop('group',axis='columns')\n",
        "y = df_test_under['group']"
      ],
      "metadata": {
        "id": "nME4UH85QFIG"
      },
      "id": "nME4UH85QFIG",
      "execution_count": 60,
      "outputs": []
    },
    {
      "cell_type": "code",
      "source": [
        "X.head()"
      ],
      "metadata": {
        "id": "FZAn1TVuQkBX",
        "outputId": "4fe6fb64-6dd3-4424-a089-aa378fb95e39",
        "colab": {
          "base_uri": "https://localhost:8080/",
          "height": 288
        }
      },
      "id": "FZAn1TVuQkBX",
      "execution_count": 61,
      "outputs": [
        {
          "output_type": "execute_result",
          "data": {
            "text/plain": [
              "     intracranialvol  cortexvol  totalgrayvol  corticalwhitemattervol  \\\n",
              "212         0.229528   0.536513      0.382837                0.307655   \n",
              "555         0.455094   0.799415      0.675816                0.324306   \n",
              "537         0.357040   0.525842      0.419781                0.156156   \n",
              "502         0.363770   0.516093      0.378370                0.247029   \n",
              "933         0.275649   0.391637      0.298137                0.190355   \n",
              "\n",
              "     total_hippocampus_volume      mmse  cdr      apoe       age  education  \\\n",
              "212                  0.721189  1.000000  0.0  0.500000  0.411754   0.363636   \n",
              "555                  0.867045  1.000000  0.0  0.545455  0.228834   0.500000   \n",
              "537                  0.545326  0.965517  0.0  0.500000  0.813590   0.363636   \n",
              "502                  0.508462  0.931034  0.0  0.500000  0.691460   0.409091   \n",
              "933                  0.604129  0.965517  0.0  0.500000  0.468687   0.409091   \n",
              "\n",
              "     m/f  race_African American  race_Asian  race_Caucasian  \n",
              "212    1                      0           0               1  \n",
              "555    1                      0           0               1  \n",
              "537    1                      0           0               1  \n",
              "502    1                      0           0               1  \n",
              "933    1                      1           0               0  "
            ],
            "text/html": [
              "\n",
              "  <div id=\"df-e52377a7-e496-4852-bbb5-4ceacb2f0c92\">\n",
              "    <div class=\"colab-df-container\">\n",
              "      <div>\n",
              "<style scoped>\n",
              "    .dataframe tbody tr th:only-of-type {\n",
              "        vertical-align: middle;\n",
              "    }\n",
              "\n",
              "    .dataframe tbody tr th {\n",
              "        vertical-align: top;\n",
              "    }\n",
              "\n",
              "    .dataframe thead th {\n",
              "        text-align: right;\n",
              "    }\n",
              "</style>\n",
              "<table border=\"1\" class=\"dataframe\">\n",
              "  <thead>\n",
              "    <tr style=\"text-align: right;\">\n",
              "      <th></th>\n",
              "      <th>intracranialvol</th>\n",
              "      <th>cortexvol</th>\n",
              "      <th>totalgrayvol</th>\n",
              "      <th>corticalwhitemattervol</th>\n",
              "      <th>total_hippocampus_volume</th>\n",
              "      <th>mmse</th>\n",
              "      <th>cdr</th>\n",
              "      <th>apoe</th>\n",
              "      <th>age</th>\n",
              "      <th>education</th>\n",
              "      <th>m/f</th>\n",
              "      <th>race_African American</th>\n",
              "      <th>race_Asian</th>\n",
              "      <th>race_Caucasian</th>\n",
              "    </tr>\n",
              "  </thead>\n",
              "  <tbody>\n",
              "    <tr>\n",
              "      <th>212</th>\n",
              "      <td>0.229528</td>\n",
              "      <td>0.536513</td>\n",
              "      <td>0.382837</td>\n",
              "      <td>0.307655</td>\n",
              "      <td>0.721189</td>\n",
              "      <td>1.000000</td>\n",
              "      <td>0.0</td>\n",
              "      <td>0.500000</td>\n",
              "      <td>0.411754</td>\n",
              "      <td>0.363636</td>\n",
              "      <td>1</td>\n",
              "      <td>0</td>\n",
              "      <td>0</td>\n",
              "      <td>1</td>\n",
              "    </tr>\n",
              "    <tr>\n",
              "      <th>555</th>\n",
              "      <td>0.455094</td>\n",
              "      <td>0.799415</td>\n",
              "      <td>0.675816</td>\n",
              "      <td>0.324306</td>\n",
              "      <td>0.867045</td>\n",
              "      <td>1.000000</td>\n",
              "      <td>0.0</td>\n",
              "      <td>0.545455</td>\n",
              "      <td>0.228834</td>\n",
              "      <td>0.500000</td>\n",
              "      <td>1</td>\n",
              "      <td>0</td>\n",
              "      <td>0</td>\n",
              "      <td>1</td>\n",
              "    </tr>\n",
              "    <tr>\n",
              "      <th>537</th>\n",
              "      <td>0.357040</td>\n",
              "      <td>0.525842</td>\n",
              "      <td>0.419781</td>\n",
              "      <td>0.156156</td>\n",
              "      <td>0.545326</td>\n",
              "      <td>0.965517</td>\n",
              "      <td>0.0</td>\n",
              "      <td>0.500000</td>\n",
              "      <td>0.813590</td>\n",
              "      <td>0.363636</td>\n",
              "      <td>1</td>\n",
              "      <td>0</td>\n",
              "      <td>0</td>\n",
              "      <td>1</td>\n",
              "    </tr>\n",
              "    <tr>\n",
              "      <th>502</th>\n",
              "      <td>0.363770</td>\n",
              "      <td>0.516093</td>\n",
              "      <td>0.378370</td>\n",
              "      <td>0.247029</td>\n",
              "      <td>0.508462</td>\n",
              "      <td>0.931034</td>\n",
              "      <td>0.0</td>\n",
              "      <td>0.500000</td>\n",
              "      <td>0.691460</td>\n",
              "      <td>0.409091</td>\n",
              "      <td>1</td>\n",
              "      <td>0</td>\n",
              "      <td>0</td>\n",
              "      <td>1</td>\n",
              "    </tr>\n",
              "    <tr>\n",
              "      <th>933</th>\n",
              "      <td>0.275649</td>\n",
              "      <td>0.391637</td>\n",
              "      <td>0.298137</td>\n",
              "      <td>0.190355</td>\n",
              "      <td>0.604129</td>\n",
              "      <td>0.965517</td>\n",
              "      <td>0.0</td>\n",
              "      <td>0.500000</td>\n",
              "      <td>0.468687</td>\n",
              "      <td>0.409091</td>\n",
              "      <td>1</td>\n",
              "      <td>1</td>\n",
              "      <td>0</td>\n",
              "      <td>0</td>\n",
              "    </tr>\n",
              "  </tbody>\n",
              "</table>\n",
              "</div>\n",
              "      <button class=\"colab-df-convert\" onclick=\"convertToInteractive('df-e52377a7-e496-4852-bbb5-4ceacb2f0c92')\"\n",
              "              title=\"Convert this dataframe to an interactive table.\"\n",
              "              style=\"display:none;\">\n",
              "        \n",
              "  <svg xmlns=\"http://www.w3.org/2000/svg\" height=\"24px\"viewBox=\"0 0 24 24\"\n",
              "       width=\"24px\">\n",
              "    <path d=\"M0 0h24v24H0V0z\" fill=\"none\"/>\n",
              "    <path d=\"M18.56 5.44l.94 2.06.94-2.06 2.06-.94-2.06-.94-.94-2.06-.94 2.06-2.06.94zm-11 1L8.5 8.5l.94-2.06 2.06-.94-2.06-.94L8.5 2.5l-.94 2.06-2.06.94zm10 10l.94 2.06.94-2.06 2.06-.94-2.06-.94-.94-2.06-.94 2.06-2.06.94z\"/><path d=\"M17.41 7.96l-1.37-1.37c-.4-.4-.92-.59-1.43-.59-.52 0-1.04.2-1.43.59L10.3 9.45l-7.72 7.72c-.78.78-.78 2.05 0 2.83L4 21.41c.39.39.9.59 1.41.59.51 0 1.02-.2 1.41-.59l7.78-7.78 2.81-2.81c.8-.78.8-2.07 0-2.86zM5.41 20L4 18.59l7.72-7.72 1.47 1.35L5.41 20z\"/>\n",
              "  </svg>\n",
              "      </button>\n",
              "      \n",
              "  <style>\n",
              "    .colab-df-container {\n",
              "      display:flex;\n",
              "      flex-wrap:wrap;\n",
              "      gap: 12px;\n",
              "    }\n",
              "\n",
              "    .colab-df-convert {\n",
              "      background-color: #E8F0FE;\n",
              "      border: none;\n",
              "      border-radius: 50%;\n",
              "      cursor: pointer;\n",
              "      display: none;\n",
              "      fill: #1967D2;\n",
              "      height: 32px;\n",
              "      padding: 0 0 0 0;\n",
              "      width: 32px;\n",
              "    }\n",
              "\n",
              "    .colab-df-convert:hover {\n",
              "      background-color: #E2EBFA;\n",
              "      box-shadow: 0px 1px 2px rgba(60, 64, 67, 0.3), 0px 1px 3px 1px rgba(60, 64, 67, 0.15);\n",
              "      fill: #174EA6;\n",
              "    }\n",
              "\n",
              "    [theme=dark] .colab-df-convert {\n",
              "      background-color: #3B4455;\n",
              "      fill: #D2E3FC;\n",
              "    }\n",
              "\n",
              "    [theme=dark] .colab-df-convert:hover {\n",
              "      background-color: #434B5C;\n",
              "      box-shadow: 0px 1px 3px 1px rgba(0, 0, 0, 0.15);\n",
              "      filter: drop-shadow(0px 1px 2px rgba(0, 0, 0, 0.3));\n",
              "      fill: #FFFFFF;\n",
              "    }\n",
              "  </style>\n",
              "\n",
              "      <script>\n",
              "        const buttonEl =\n",
              "          document.querySelector('#df-e52377a7-e496-4852-bbb5-4ceacb2f0c92 button.colab-df-convert');\n",
              "        buttonEl.style.display =\n",
              "          google.colab.kernel.accessAllowed ? 'block' : 'none';\n",
              "\n",
              "        async function convertToInteractive(key) {\n",
              "          const element = document.querySelector('#df-e52377a7-e496-4852-bbb5-4ceacb2f0c92');\n",
              "          const dataTable =\n",
              "            await google.colab.kernel.invokeFunction('convertToInteractive',\n",
              "                                                     [key], {});\n",
              "          if (!dataTable) return;\n",
              "\n",
              "          const docLinkHtml = 'Like what you see? Visit the ' +\n",
              "            '<a target=\"_blank\" href=https://colab.research.google.com/notebooks/data_table.ipynb>data table notebook</a>'\n",
              "            + ' to learn more about interactive tables.';\n",
              "          element.innerHTML = '';\n",
              "          dataTable['output_type'] = 'display_data';\n",
              "          await google.colab.output.renderOutput(dataTable, element);\n",
              "          const docLink = document.createElement('div');\n",
              "          docLink.innerHTML = docLinkHtml;\n",
              "          element.appendChild(docLink);\n",
              "        }\n",
              "      </script>\n",
              "    </div>\n",
              "  </div>\n",
              "  "
            ]
          },
          "metadata": {},
          "execution_count": 61
        }
      ]
    },
    {
      "cell_type": "code",
      "source": [
        "y.head()"
      ],
      "metadata": {
        "id": "ayWRrfLRQrQa",
        "outputId": "35bf2c3f-a3f4-458b-e655-f2ccad0fd54b",
        "colab": {
          "base_uri": "https://localhost:8080/"
        }
      },
      "id": "ayWRrfLRQrQa",
      "execution_count": 62,
      "outputs": [
        {
          "output_type": "execute_result",
          "data": {
            "text/plain": [
              "212    0\n",
              "555    0\n",
              "537    0\n",
              "502    0\n",
              "933    0\n",
              "Name: group, dtype: int64"
            ]
          },
          "metadata": {},
          "execution_count": 62
        }
      ]
    },
    {
      "cell_type": "code",
      "source": [
        "from sklearn.model_selection import train_test_split\n",
        "X_train, X_test, y_train, y_test = train_test_split(X, y, test_size=0.25, random_state=42, stratify=y)\n"
      ],
      "metadata": {
        "id": "66MOcWIyQzWI"
      },
      "id": "66MOcWIyQzWI",
      "execution_count": 63,
      "outputs": []
    },
    {
      "cell_type": "code",
      "source": [
        "# Number of classes in training Data\n",
        "y_train.value_counts()"
      ],
      "metadata": {
        "id": "jbUxXPREQ6kV",
        "outputId": "e92be24f-1f56-4380-91f8-1b357c94548f",
        "colab": {
          "base_uri": "https://localhost:8080/"
        }
      },
      "id": "jbUxXPREQ6kV",
      "execution_count": 64,
      "outputs": [
        {
          "output_type": "execute_result",
          "data": {
            "text/plain": [
              "1    143\n",
              "0    142\n",
              "Name: group, dtype: int64"
            ]
          },
          "metadata": {},
          "execution_count": 64
        }
      ]
    },
    {
      "cell_type": "code",
      "source": [
        "#shapes of training and test datasets.\n",
        "print(X_train.shape)\n",
        "print(X_test.shape)\n",
        "print(y_train.shape)\n",
        "print(y_test.shape)"
      ],
      "metadata": {
        "id": "FtO04DXCRrql",
        "outputId": "cb1dc0ce-bb33-4323-90f3-393432e540bb",
        "colab": {
          "base_uri": "https://localhost:8080/"
        }
      },
      "id": "FtO04DXCRrql",
      "execution_count": 65,
      "outputs": [
        {
          "output_type": "stream",
          "name": "stdout",
          "text": [
            "(285, 14)\n",
            "(95, 14)\n",
            "(285,)\n",
            "(95,)\n"
          ]
        }
      ]
    },
    {
      "cell_type": "code",
      "execution_count": 66,
      "id": "c245fffb",
      "metadata": {
        "id": "c245fffb"
      },
      "outputs": [],
      "source": [
        "from sklearn.model_selection import cross_val_score\n",
        "from sklearn.metrics import confusion_matrix, classification_report\n"
      ]
    },
    {
      "cell_type": "markdown",
      "source": [
        "## **Logistic Regression w/Undersampling**"
      ],
      "metadata": {
        "id": "cgX_tGHrT1g2"
      },
      "id": "cgX_tGHrT1g2"
    },
    {
      "cell_type": "code",
      "execution_count": 67,
      "id": "2c973b0a",
      "metadata": {
        "id": "2c973b0a"
      },
      "outputs": [],
      "source": [
        "from sklearn.linear_model import LogisticRegression"
      ]
    },
    {
      "cell_type": "code",
      "execution_count": 68,
      "id": "be81b4cc",
      "metadata": {
        "id": "be81b4cc",
        "outputId": "9622263c-4098-444f-fe67-44ef3f1a1618",
        "colab": {
          "base_uri": "https://localhost:8080/"
        }
      },
      "outputs": [
        {
          "output_type": "execute_result",
          "data": {
            "text/plain": [
              "LogisticRegression(multi_class='ovr', solver='liblinear')"
            ]
          },
          "metadata": {},
          "execution_count": 68
        }
      ],
      "source": [
        "lr = LogisticRegression(multi_class='ovr', solver='liblinear')\n",
        "lr.fit(X_train, y_train)"
      ]
    },
    {
      "cell_type": "code",
      "source": [
        "test_score = lr.score(X_test, y_test)\n",
        "\n",
        "print(\"Test accuracy is \", test_score)\n",
        "\n",
        "PredictedOutput = lr.predict(X_test)\n",
        "\n",
        "print(\"Classification Report: \\n\", classification_report(y_test, PredictedOutput))   "
      ],
      "metadata": {
        "id": "Cpjj8a-jhfFP",
        "outputId": "0c133f0e-50e7-4790-ba78-8273d6b8f842",
        "colab": {
          "base_uri": "https://localhost:8080/"
        }
      },
      "id": "Cpjj8a-jhfFP",
      "execution_count": 69,
      "outputs": [
        {
          "output_type": "stream",
          "name": "stdout",
          "text": [
            "Test accuracy is  0.9157894736842105\n",
            "Classification Report: \n",
            "               precision    recall  f1-score   support\n",
            "\n",
            "           0       0.92      0.92      0.92        48\n",
            "           1       0.91      0.91      0.91        47\n",
            "\n",
            "    accuracy                           0.92        95\n",
            "   macro avg       0.92      0.92      0.92        95\n",
            "weighted avg       0.92      0.92      0.92        95\n",
            "\n"
          ]
        }
      ]
    },
    {
      "cell_type": "code",
      "source": [
        "cm=confusion_matrix(y_test,PredictedOutput)\n",
        "print(cm)"
      ],
      "metadata": {
        "id": "fqSIRAfNml5Z",
        "outputId": "fc40d547-18b1-415a-b820-45a8eaa65f8f",
        "colab": {
          "base_uri": "https://localhost:8080/"
        }
      },
      "id": "fqSIRAfNml5Z",
      "execution_count": 70,
      "outputs": [
        {
          "output_type": "stream",
          "name": "stdout",
          "text": [
            "[[44  4]\n",
            " [ 4 43]]\n"
          ]
        }
      ]
    },
    {
      "cell_type": "markdown",
      "source": [
        "## Oversampling"
      ],
      "metadata": {
        "id": "WLTWJYzD-VYd"
      },
      "id": "WLTWJYzD-VYd"
    },
    {
      "cell_type": "code",
      "source": [
        "# Oversample 1-class and concat the DataFrames of both classes\n",
        "df_class_1_over = df_class_1.sample(count_class_0, replace=True)\n",
        "df_test_over = pd.concat([df_class_0, df_class_1_over], axis=0)\n",
        "\n",
        "print('Random over-sampling:')\n",
        "print(df_test_over.group.value_counts())"
      ],
      "metadata": {
        "id": "_gr2yBu5CBEz",
        "outputId": "d299a6d8-bb66-40d0-c4cc-76d3192e3e83",
        "colab": {
          "base_uri": "https://localhost:8080/"
        }
      },
      "id": "_gr2yBu5CBEz",
      "execution_count": 71,
      "outputs": [
        {
          "output_type": "stream",
          "name": "stdout",
          "text": [
            "Random over-sampling:\n",
            "0    836\n",
            "1    836\n",
            "Name: group, dtype: int64\n"
          ]
        }
      ]
    },
    {
      "cell_type": "code",
      "source": [
        "X = df_test_over.drop('group',axis='columns')\n",
        "y = df_test_over['group']"
      ],
      "metadata": {
        "id": "ogmTdsD3CA5z"
      },
      "id": "ogmTdsD3CA5z",
      "execution_count": 72,
      "outputs": []
    },
    {
      "cell_type": "code",
      "source": [
        "X.head()"
      ],
      "metadata": {
        "id": "Tml2DrozCAz1",
        "outputId": "c2edb5dc-b8a0-477d-8831-e14e486e57e8",
        "colab": {
          "base_uri": "https://localhost:8080/",
          "height": 288
        }
      },
      "id": "Tml2DrozCAz1",
      "execution_count": 73,
      "outputs": [
        {
          "output_type": "execute_result",
          "data": {
            "text/plain": [
              "   intracranialvol  cortexvol  totalgrayvol  corticalwhitemattervol  \\\n",
              "0         0.111421   0.487510      0.372655                0.159824   \n",
              "1         0.593887   0.756005      0.661793                0.362635   \n",
              "2         0.367302   0.610120      0.507643                0.284605   \n",
              "3         0.360742   0.653216      0.549073                0.308566   \n",
              "4         0.495138   0.758469      0.770183                0.360098   \n",
              "\n",
              "   total_hippocampus_volume      mmse  cdr      apoe       age  education  \\\n",
              "0                  0.613154  0.965517  0.0  0.045455  0.419467   0.227273   \n",
              "1                  0.756272  0.965517  0.0  0.545455  0.483563   0.500000   \n",
              "2                  0.706385  1.000000  0.0  0.500000  0.323967   0.409091   \n",
              "3                  0.729136  1.000000  0.0  0.045455  0.283747   0.454545   \n",
              "4                  0.782100  0.896552  0.0  0.500000  0.105785   0.409091   \n",
              "\n",
              "   m/f  race_African American  race_Asian  race_Caucasian  \n",
              "0    1                      0           0               1  \n",
              "1    0                      0           0               1  \n",
              "2    1                      0           0               1  \n",
              "3    1                      0           0               1  \n",
              "4    1                      0           1               0  "
            ],
            "text/html": [
              "\n",
              "  <div id=\"df-82733d0d-015a-421b-b9bd-ca8aef3f89a3\">\n",
              "    <div class=\"colab-df-container\">\n",
              "      <div>\n",
              "<style scoped>\n",
              "    .dataframe tbody tr th:only-of-type {\n",
              "        vertical-align: middle;\n",
              "    }\n",
              "\n",
              "    .dataframe tbody tr th {\n",
              "        vertical-align: top;\n",
              "    }\n",
              "\n",
              "    .dataframe thead th {\n",
              "        text-align: right;\n",
              "    }\n",
              "</style>\n",
              "<table border=\"1\" class=\"dataframe\">\n",
              "  <thead>\n",
              "    <tr style=\"text-align: right;\">\n",
              "      <th></th>\n",
              "      <th>intracranialvol</th>\n",
              "      <th>cortexvol</th>\n",
              "      <th>totalgrayvol</th>\n",
              "      <th>corticalwhitemattervol</th>\n",
              "      <th>total_hippocampus_volume</th>\n",
              "      <th>mmse</th>\n",
              "      <th>cdr</th>\n",
              "      <th>apoe</th>\n",
              "      <th>age</th>\n",
              "      <th>education</th>\n",
              "      <th>m/f</th>\n",
              "      <th>race_African American</th>\n",
              "      <th>race_Asian</th>\n",
              "      <th>race_Caucasian</th>\n",
              "    </tr>\n",
              "  </thead>\n",
              "  <tbody>\n",
              "    <tr>\n",
              "      <th>0</th>\n",
              "      <td>0.111421</td>\n",
              "      <td>0.487510</td>\n",
              "      <td>0.372655</td>\n",
              "      <td>0.159824</td>\n",
              "      <td>0.613154</td>\n",
              "      <td>0.965517</td>\n",
              "      <td>0.0</td>\n",
              "      <td>0.045455</td>\n",
              "      <td>0.419467</td>\n",
              "      <td>0.227273</td>\n",
              "      <td>1</td>\n",
              "      <td>0</td>\n",
              "      <td>0</td>\n",
              "      <td>1</td>\n",
              "    </tr>\n",
              "    <tr>\n",
              "      <th>1</th>\n",
              "      <td>0.593887</td>\n",
              "      <td>0.756005</td>\n",
              "      <td>0.661793</td>\n",
              "      <td>0.362635</td>\n",
              "      <td>0.756272</td>\n",
              "      <td>0.965517</td>\n",
              "      <td>0.0</td>\n",
              "      <td>0.545455</td>\n",
              "      <td>0.483563</td>\n",
              "      <td>0.500000</td>\n",
              "      <td>0</td>\n",
              "      <td>0</td>\n",
              "      <td>0</td>\n",
              "      <td>1</td>\n",
              "    </tr>\n",
              "    <tr>\n",
              "      <th>2</th>\n",
              "      <td>0.367302</td>\n",
              "      <td>0.610120</td>\n",
              "      <td>0.507643</td>\n",
              "      <td>0.284605</td>\n",
              "      <td>0.706385</td>\n",
              "      <td>1.000000</td>\n",
              "      <td>0.0</td>\n",
              "      <td>0.500000</td>\n",
              "      <td>0.323967</td>\n",
              "      <td>0.409091</td>\n",
              "      <td>1</td>\n",
              "      <td>0</td>\n",
              "      <td>0</td>\n",
              "      <td>1</td>\n",
              "    </tr>\n",
              "    <tr>\n",
              "      <th>3</th>\n",
              "      <td>0.360742</td>\n",
              "      <td>0.653216</td>\n",
              "      <td>0.549073</td>\n",
              "      <td>0.308566</td>\n",
              "      <td>0.729136</td>\n",
              "      <td>1.000000</td>\n",
              "      <td>0.0</td>\n",
              "      <td>0.045455</td>\n",
              "      <td>0.283747</td>\n",
              "      <td>0.454545</td>\n",
              "      <td>1</td>\n",
              "      <td>0</td>\n",
              "      <td>0</td>\n",
              "      <td>1</td>\n",
              "    </tr>\n",
              "    <tr>\n",
              "      <th>4</th>\n",
              "      <td>0.495138</td>\n",
              "      <td>0.758469</td>\n",
              "      <td>0.770183</td>\n",
              "      <td>0.360098</td>\n",
              "      <td>0.782100</td>\n",
              "      <td>0.896552</td>\n",
              "      <td>0.0</td>\n",
              "      <td>0.500000</td>\n",
              "      <td>0.105785</td>\n",
              "      <td>0.409091</td>\n",
              "      <td>1</td>\n",
              "      <td>0</td>\n",
              "      <td>1</td>\n",
              "      <td>0</td>\n",
              "    </tr>\n",
              "  </tbody>\n",
              "</table>\n",
              "</div>\n",
              "      <button class=\"colab-df-convert\" onclick=\"convertToInteractive('df-82733d0d-015a-421b-b9bd-ca8aef3f89a3')\"\n",
              "              title=\"Convert this dataframe to an interactive table.\"\n",
              "              style=\"display:none;\">\n",
              "        \n",
              "  <svg xmlns=\"http://www.w3.org/2000/svg\" height=\"24px\"viewBox=\"0 0 24 24\"\n",
              "       width=\"24px\">\n",
              "    <path d=\"M0 0h24v24H0V0z\" fill=\"none\"/>\n",
              "    <path d=\"M18.56 5.44l.94 2.06.94-2.06 2.06-.94-2.06-.94-.94-2.06-.94 2.06-2.06.94zm-11 1L8.5 8.5l.94-2.06 2.06-.94-2.06-.94L8.5 2.5l-.94 2.06-2.06.94zm10 10l.94 2.06.94-2.06 2.06-.94-2.06-.94-.94-2.06-.94 2.06-2.06.94z\"/><path d=\"M17.41 7.96l-1.37-1.37c-.4-.4-.92-.59-1.43-.59-.52 0-1.04.2-1.43.59L10.3 9.45l-7.72 7.72c-.78.78-.78 2.05 0 2.83L4 21.41c.39.39.9.59 1.41.59.51 0 1.02-.2 1.41-.59l7.78-7.78 2.81-2.81c.8-.78.8-2.07 0-2.86zM5.41 20L4 18.59l7.72-7.72 1.47 1.35L5.41 20z\"/>\n",
              "  </svg>\n",
              "      </button>\n",
              "      \n",
              "  <style>\n",
              "    .colab-df-container {\n",
              "      display:flex;\n",
              "      flex-wrap:wrap;\n",
              "      gap: 12px;\n",
              "    }\n",
              "\n",
              "    .colab-df-convert {\n",
              "      background-color: #E8F0FE;\n",
              "      border: none;\n",
              "      border-radius: 50%;\n",
              "      cursor: pointer;\n",
              "      display: none;\n",
              "      fill: #1967D2;\n",
              "      height: 32px;\n",
              "      padding: 0 0 0 0;\n",
              "      width: 32px;\n",
              "    }\n",
              "\n",
              "    .colab-df-convert:hover {\n",
              "      background-color: #E2EBFA;\n",
              "      box-shadow: 0px 1px 2px rgba(60, 64, 67, 0.3), 0px 1px 3px 1px rgba(60, 64, 67, 0.15);\n",
              "      fill: #174EA6;\n",
              "    }\n",
              "\n",
              "    [theme=dark] .colab-df-convert {\n",
              "      background-color: #3B4455;\n",
              "      fill: #D2E3FC;\n",
              "    }\n",
              "\n",
              "    [theme=dark] .colab-df-convert:hover {\n",
              "      background-color: #434B5C;\n",
              "      box-shadow: 0px 1px 3px 1px rgba(0, 0, 0, 0.15);\n",
              "      filter: drop-shadow(0px 1px 2px rgba(0, 0, 0, 0.3));\n",
              "      fill: #FFFFFF;\n",
              "    }\n",
              "  </style>\n",
              "\n",
              "      <script>\n",
              "        const buttonEl =\n",
              "          document.querySelector('#df-82733d0d-015a-421b-b9bd-ca8aef3f89a3 button.colab-df-convert');\n",
              "        buttonEl.style.display =\n",
              "          google.colab.kernel.accessAllowed ? 'block' : 'none';\n",
              "\n",
              "        async function convertToInteractive(key) {\n",
              "          const element = document.querySelector('#df-82733d0d-015a-421b-b9bd-ca8aef3f89a3');\n",
              "          const dataTable =\n",
              "            await google.colab.kernel.invokeFunction('convertToInteractive',\n",
              "                                                     [key], {});\n",
              "          if (!dataTable) return;\n",
              "\n",
              "          const docLinkHtml = 'Like what you see? Visit the ' +\n",
              "            '<a target=\"_blank\" href=https://colab.research.google.com/notebooks/data_table.ipynb>data table notebook</a>'\n",
              "            + ' to learn more about interactive tables.';\n",
              "          element.innerHTML = '';\n",
              "          dataTable['output_type'] = 'display_data';\n",
              "          await google.colab.output.renderOutput(dataTable, element);\n",
              "          const docLink = document.createElement('div');\n",
              "          docLink.innerHTML = docLinkHtml;\n",
              "          element.appendChild(docLink);\n",
              "        }\n",
              "      </script>\n",
              "    </div>\n",
              "  </div>\n",
              "  "
            ]
          },
          "metadata": {},
          "execution_count": 73
        }
      ]
    },
    {
      "cell_type": "code",
      "source": [
        "y.head()"
      ],
      "metadata": {
        "id": "EahLLodFCAqe",
        "outputId": "4487714d-d140-4c15-8cb1-023cc70c033f",
        "colab": {
          "base_uri": "https://localhost:8080/"
        }
      },
      "id": "EahLLodFCAqe",
      "execution_count": 74,
      "outputs": [
        {
          "output_type": "execute_result",
          "data": {
            "text/plain": [
              "0    0\n",
              "1    0\n",
              "2    0\n",
              "3    0\n",
              "4    0\n",
              "Name: group, dtype: int64"
            ]
          },
          "metadata": {},
          "execution_count": 74
        }
      ]
    },
    {
      "cell_type": "code",
      "source": [
        "from sklearn.model_selection import train_test_split\n",
        "X_train, X_test, y_train, y_test = train_test_split(X, y, test_size=0.25, random_state=42, stratify=y)\n"
      ],
      "metadata": {
        "id": "fq4Ypf8MDwkO"
      },
      "id": "fq4Ypf8MDwkO",
      "execution_count": 75,
      "outputs": []
    },
    {
      "cell_type": "code",
      "source": [
        "# Number of classes in training Data\n",
        "y_train.value_counts()"
      ],
      "metadata": {
        "id": "NP84tSveDwV6",
        "outputId": "5fb2f842-6da4-458f-e524-df7c6f182b77",
        "colab": {
          "base_uri": "https://localhost:8080/"
        }
      },
      "id": "NP84tSveDwV6",
      "execution_count": 76,
      "outputs": [
        {
          "output_type": "execute_result",
          "data": {
            "text/plain": [
              "0    627\n",
              "1    627\n",
              "Name: group, dtype: int64"
            ]
          },
          "metadata": {},
          "execution_count": 76
        }
      ]
    },
    {
      "cell_type": "code",
      "source": [
        "#shapes of training and test datasets.\n",
        "print(X_train.shape)\n",
        "print(X_test.shape)\n",
        "print(y_train.shape)\n",
        "print(y_test.shape)"
      ],
      "metadata": {
        "id": "G8QFpuy7DwTg",
        "outputId": "04162b99-89a1-4f43-d0e6-e639f940d346",
        "colab": {
          "base_uri": "https://localhost:8080/"
        }
      },
      "id": "G8QFpuy7DwTg",
      "execution_count": 77,
      "outputs": [
        {
          "output_type": "stream",
          "name": "stdout",
          "text": [
            "(1254, 14)\n",
            "(418, 14)\n",
            "(1254,)\n",
            "(418,)\n"
          ]
        }
      ]
    },
    {
      "cell_type": "markdown",
      "source": [
        "## Logistic Regression W/Oversampling"
      ],
      "metadata": {
        "id": "dYW6okFmER0l"
      },
      "id": "dYW6okFmER0l"
    },
    {
      "cell_type": "code",
      "source": [
        "lr = LogisticRegression(multi_class='ovr', solver='liblinear')\n",
        "lr.fit(X_train, y_train)"
      ],
      "metadata": {
        "id": "-agvhMD7DwQ7",
        "outputId": "49cc1237-05a9-4afe-c9a3-0c2f3ef90e92",
        "colab": {
          "base_uri": "https://localhost:8080/"
        }
      },
      "id": "-agvhMD7DwQ7",
      "execution_count": 78,
      "outputs": [
        {
          "output_type": "execute_result",
          "data": {
            "text/plain": [
              "LogisticRegression(multi_class='ovr', solver='liblinear')"
            ]
          },
          "metadata": {},
          "execution_count": 78
        }
      ]
    },
    {
      "cell_type": "code",
      "source": [
        "test_score = lr.score(X_test, y_test)\n",
        "\n",
        "print(\"Test accuracy is \", test_score)\n",
        "\n",
        "PredictedOutput = lr.predict(X_test)\n",
        "\n",
        "print(\"Classification Report: \\n\", classification_report(y_test, PredictedOutput))   "
      ],
      "metadata": {
        "id": "nugD3cfiEeHR",
        "outputId": "919798ef-3a37-48dd-d9a0-2b7c886b6315",
        "colab": {
          "base_uri": "https://localhost:8080/"
        }
      },
      "id": "nugD3cfiEeHR",
      "execution_count": 79,
      "outputs": [
        {
          "output_type": "stream",
          "name": "stdout",
          "text": [
            "Test accuracy is  0.9521531100478469\n",
            "Classification Report: \n",
            "               precision    recall  f1-score   support\n",
            "\n",
            "           0       0.93      0.98      0.95       209\n",
            "           1       0.97      0.93      0.95       209\n",
            "\n",
            "    accuracy                           0.95       418\n",
            "   macro avg       0.95      0.95      0.95       418\n",
            "weighted avg       0.95      0.95      0.95       418\n",
            "\n"
          ]
        }
      ]
    },
    {
      "cell_type": "code",
      "source": [
        "cm=confusion_matrix(y_test,PredictedOutput)\n",
        "print(cm)"
      ],
      "metadata": {
        "id": "4gMkrf0ZEeAV",
        "outputId": "c3d49038-6f8d-46e5-d22d-5b771f276f19",
        "colab": {
          "base_uri": "https://localhost:8080/"
        }
      },
      "id": "4gMkrf0ZEeAV",
      "execution_count": 80,
      "outputs": [
        {
          "output_type": "stream",
          "name": "stdout",
          "text": [
            "[[204   5]\n",
            " [ 15 194]]\n"
          ]
        }
      ]
    }
  ],
  "metadata": {
    "kernelspec": {
      "display_name": "Python 3",
      "language": "python",
      "name": "python3"
    },
    "language_info": {
      "codemirror_mode": {
        "name": "ipython",
        "version": 3
      },
      "file_extension": ".py",
      "mimetype": "text/x-python",
      "name": "python",
      "nbconvert_exporter": "python",
      "pygments_lexer": "ipython3",
      "version": "3.8.8"
    },
    "colab": {
      "provenance": [],
      "include_colab_link": true
    }
  },
  "nbformat": 4,
  "nbformat_minor": 5
}